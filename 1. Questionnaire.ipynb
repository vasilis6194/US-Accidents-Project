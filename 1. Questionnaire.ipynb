{
 "cells": [
  {
   "cell_type": "markdown",
   "metadata": {},
   "source": [
    "\n",
    "## A. Accidents Per State\n",
    "### 1. How many accidents occurred in each state?\n",
    "### 2. Which states have the highest and lowest number of accidents?"
   ]
  },
  {
   "cell_type": "markdown",
   "metadata": {},
   "source": [
    "## B. Most Prone State for Accidents\n",
    "### 3. Which state experiences the most accidents overall?\n",
    "### 4. Is there a significant gap between the top state and others?"
   ]
  },
  {
   "cell_type": "markdown",
   "metadata": {},
   "source": [
    "## C. Accidents Per Month\n",
    "### 5. How many accidents occur in each month of the year?\n",
    "### 6. Which month(s) have the highest number of accidents?"
   ]
  },
  {
   "cell_type": "markdown",
   "metadata": {},
   "source": [
    "## D. Accidents at Junctions, Stops, and Traffic Signals\n",
    "### 7.How many accidents occurred near: \n",
    "#### i. Junctions\n",
    "#### ii. Stops\n",
    "#### iii. Traffic Signals\n",
    "\n",
    "### 8 .What percentage of total accidents do these categories represent?"
   ]
  },
  {
   "cell_type": "markdown",
   "metadata": {},
   "source": [
    "## E. Accidents Per Distance and Severity\n",
    "### 9. How do accidents vary based on the distance traveled? Are long-distance trips more accident-prone, or are accidents more frequent for shorter trips?\n",
    "\n",
    "### 10. Where are the geographical hotspots for accidents?\n",
    "### 11. Which areas are the most dangerous based on severity?"
   ]
  }
 ],
 "metadata": {
  "kernelspec": {
   "display_name": "Python 3",
   "language": "python",
   "name": "python3"
  },
  "language_info": {
   "codemirror_mode": {
    "name": "ipython",
    "version": 3
   },
   "file_extension": ".py",
   "mimetype": "text/x-python",
   "name": "python",
   "nbconvert_exporter": "python",
   "pygments_lexer": "ipython3",
   "version": "3.8.3"
  }
 },
 "nbformat": 4,
 "nbformat_minor": 4
}
