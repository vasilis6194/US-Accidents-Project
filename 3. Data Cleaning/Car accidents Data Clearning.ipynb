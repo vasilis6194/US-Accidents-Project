{
 "cells": [
  {
   "cell_type": "code",
   "execution_count": 14,
   "id": "acc47816-cc03-4b2e-9d56-90d9aad97d2e",
   "metadata": {},
   "outputs": [
    {
     "name": "stderr",
     "output_type": "stream",
     "text": [
      "\n",
      "KeyboardInterrupt\n",
      "\n"
     ]
    }
   ],
   "source": [
    "import pandas as pd\n",
    "\n",
    "#path\n",
    "file_path = r\"C:\\Users\\vange\\Desktop\\github project\\archive\\US_Accidents_March23.csv\"\n",
    "\n",
    "#df\n",
    "df = pd.read_csv(file_path)\n",
    "\n",
    "\n"
   ]
  },
  {
   "cell_type": "code",
   "execution_count": null,
   "id": "8442c73c-a17d-4c3c-9a92-b005bf35c2fc",
   "metadata": {},
   "outputs": [],
   "source": [
    "df.columns"
   ]
  },
  {
   "cell_type": "code",
   "execution_count": null,
   "id": "a6fc5264-75c3-4b88-b6ec-1eb42670a9c9",
   "metadata": {},
   "outputs": [],
   "source": [
    "df.describe()"
   ]
  },
  {
   "cell_type": "code",
   "execution_count": null,
   "id": "57e6683b-d5a7-4896-862f-39e15c28dbf0",
   "metadata": {},
   "outputs": [],
   "source": [
    "df.info()"
   ]
  },
  {
   "cell_type": "code",
   "execution_count": null,
   "id": "ace35fb2-b90c-4e9c-8de1-fddb5908d035",
   "metadata": {},
   "outputs": [],
   "source": [
    "df_no_na = df.dropna()\n",
    "\n",
    "cleaned_accidents = df_no_na.sample(n=10000, random_state=42)"
   ]
  },
  {
   "cell_type": "code",
   "execution_count": 15,
   "id": "f3245cb0-f23f-485a-9797-c3dbe7e87e7b",
   "metadata": {},
   "outputs": [],
   "source": [
    "#Datetimes\n",
    "cleaned_accidents['Start_Time'] = pd.to_datetime(cleaned_accidents['Start_Time'])\n",
    "\n",
    "\n",
    "cleaned_accidents['End_Time'] = pd.to_datetime(cleaned_accidents['End_Time'])"
   ]
  },
  {
   "cell_type": "code",
   "execution_count": 16,
   "id": "d01142d7-c4ad-4d94-a950-4548f4abf2fb",
   "metadata": {},
   "outputs": [
    {
     "name": "stdout",
     "output_type": "stream",
     "text": [
      "File exported successfully to: C:\\Users\\vange\\Desktop\\github project\\cleaned_accidents.csv\n"
     ]
    }
   ],
   "source": [
    "#export to csv\n",
    "output_path = r\"C:\\Users\\vange\\Desktop\\github project\\cleaned_accidents.csv\"\n",
    "\n",
    "\n",
    "cleaned_accidents.to_csv(output_path, index=False)\n",
    "\n",
    "print(f\"File exported successfully to: {output_path}\")"
   ]
  },
  {
   "cell_type": "code",
   "execution_count": null,
   "id": "15055cbd-bd29-47a9-95ab-363d95f0fb27",
   "metadata": {},
   "outputs": [],
   "source": []
  }
 ],
 "metadata": {
  "kernelspec": {
   "display_name": "Python 3 (ipykernel)",
   "language": "python",
   "name": "python3"
  },
  "language_info": {
   "codemirror_mode": {
    "name": "ipython",
    "version": 3
   },
   "file_extension": ".py",
   "mimetype": "text/x-python",
   "name": "python",
   "nbconvert_exporter": "python",
   "pygments_lexer": "ipython3",
   "version": "3.11.5"
  }
 },
 "nbformat": 4,
 "nbformat_minor": 5
}
