{
 "cells": [
  {
   "cell_type": "code",
   "execution_count": 2,
   "id": "e8b02ad5",
   "metadata": {},
   "outputs": [],
   "source": [
    "import pandas as pd\n",
    "import numpy as np\n",
    "import plotly.express as px\n",
    "import matplotlib.pyplot as plt\n",
    "\n",
    "#----------------------------------------------------------\n",
    "pd.set_option('display.max_columns', None)  # Show all columns\n",
    "\n",
    "import warnings\n",
    "warnings.simplefilter(action='ignore', category=FutureWarning)"
   ]
  },
  {
   "cell_type": "code",
   "execution_count": 3,
   "id": "93af667d",
   "metadata": {},
   "outputs": [],
   "source": [
    "df=pd.read_csv('cleaned_accidents.csv')"
   ]
  },
  {
   "cell_type": "code",
   "execution_count": 4,
   "id": "e60c1e1b",
   "metadata": {
    "scrolled": true
   },
   "outputs": [
    {
     "name": "stdout",
     "output_type": "stream",
     "text": [
      "<class 'pandas.core.frame.DataFrame'>\n",
      "RangeIndex: 10000 entries, 0 to 9999\n",
      "Data columns (total 46 columns):\n",
      " #   Column                 Non-Null Count  Dtype  \n",
      "---  ------                 --------------  -----  \n",
      " 0   ID                     10000 non-null  object \n",
      " 1   Source                 10000 non-null  object \n",
      " 2   Severity               10000 non-null  int64  \n",
      " 3   Start_Time             10000 non-null  object \n",
      " 4   End_Time               10000 non-null  object \n",
      " 5   Start_Lat              10000 non-null  float64\n",
      " 6   Start_Lng              10000 non-null  float64\n",
      " 7   End_Lat                10000 non-null  float64\n",
      " 8   End_Lng                10000 non-null  float64\n",
      " 9   Distance(mi)           10000 non-null  float64\n",
      " 10  Description            10000 non-null  object \n",
      " 11  Street                 10000 non-null  object \n",
      " 12  City                   10000 non-null  object \n",
      " 13  County                 10000 non-null  object \n",
      " 14  State                  10000 non-null  object \n",
      " 15  Zipcode                10000 non-null  object \n",
      " 16  Country                10000 non-null  object \n",
      " 17  Timezone               10000 non-null  object \n",
      " 18  Airport_Code           10000 non-null  object \n",
      " 19  Weather_Timestamp      10000 non-null  object \n",
      " 20  Temperature(F)         10000 non-null  float64\n",
      " 21  Wind_Chill(F)          10000 non-null  float64\n",
      " 22  Humidity(%)            10000 non-null  float64\n",
      " 23  Pressure(in)           10000 non-null  float64\n",
      " 24  Visibility(mi)         10000 non-null  float64\n",
      " 25  Wind_Direction         10000 non-null  object \n",
      " 26  Wind_Speed(mph)        10000 non-null  float64\n",
      " 27  Precipitation(in)      10000 non-null  float64\n",
      " 28  Weather_Condition      10000 non-null  object \n",
      " 29  Amenity                10000 non-null  bool   \n",
      " 30  Bump                   10000 non-null  bool   \n",
      " 31  Crossing               10000 non-null  bool   \n",
      " 32  Give_Way               10000 non-null  bool   \n",
      " 33  Junction               10000 non-null  bool   \n",
      " 34  No_Exit                10000 non-null  bool   \n",
      " 35  Railway                10000 non-null  bool   \n",
      " 36  Roundabout             10000 non-null  bool   \n",
      " 37  Station                10000 non-null  bool   \n",
      " 38  Stop                   10000 non-null  bool   \n",
      " 39  Traffic_Calming        10000 non-null  bool   \n",
      " 40  Traffic_Signal         10000 non-null  bool   \n",
      " 41  Turning_Loop           10000 non-null  bool   \n",
      " 42  Sunrise_Sunset         10000 non-null  object \n",
      " 43  Civil_Twilight         10000 non-null  object \n",
      " 44  Nautical_Twilight      10000 non-null  object \n",
      " 45  Astronomical_Twilight  10000 non-null  object \n",
      "dtypes: bool(13), float64(12), int64(1), object(20)\n",
      "memory usage: 2.6+ MB\n"
     ]
    }
   ],
   "source": [
    "df.info()"
   ]
  },
  {
   "cell_type": "code",
   "execution_count": 6,
   "id": "e81fcd3c",
   "metadata": {},
   "outputs": [],
   "source": [
    "df['Start_Time']=pd.to_datetime(df['Start_Time'])\n",
    "df['End_Time']=pd.to_datetime(df['End_Time'])"
   ]
  },
  {
   "cell_type": "code",
   "execution_count": 8,
   "id": "1fb72bf9",
   "metadata": {
    "scrolled": true
   },
   "outputs": [
    {
     "data": {
      "text/html": [
       "<style type=\"text/css\">\n",
       "#T_a4c37_row0_col1, #T_a4c37_row0_col2, #T_a4c37_row1_col1, #T_a4c37_row1_col2, #T_a4c37_row1_col3, #T_a4c37_row2_col1, #T_a4c37_row2_col2, #T_a4c37_row2_col3, #T_a4c37_row3_col1, #T_a4c37_row3_col2, #T_a4c37_row4_col1, #T_a4c37_row4_col2, #T_a4c37_row5_col1, #T_a4c37_row5_col2, #T_a4c37_row6_col1, #T_a4c37_row6_col2, #T_a4c37_row7_col1, #T_a4c37_row7_col2, #T_a4c37_row8_col1, #T_a4c37_row8_col2, #T_a4c37_row9_col1, #T_a4c37_row9_col2, #T_a4c37_row10_col1, #T_a4c37_row10_col2, #T_a4c37_row11_col1, #T_a4c37_row11_col2, #T_a4c37_row12_col1, #T_a4c37_row12_col2, #T_a4c37_row13_col1, #T_a4c37_row13_col2, #T_a4c37_row14_col1, #T_a4c37_row14_col2, #T_a4c37_row15_col1, #T_a4c37_row15_col2, #T_a4c37_row16_col1, #T_a4c37_row16_col2, #T_a4c37_row16_col3, #T_a4c37_row17_col1, #T_a4c37_row17_col2, #T_a4c37_row17_col3, #T_a4c37_row18_col1, #T_a4c37_row18_col2, #T_a4c37_row19_col1, #T_a4c37_row19_col2, #T_a4c37_row20_col1, #T_a4c37_row20_col2, #T_a4c37_row21_col1, #T_a4c37_row21_col2, #T_a4c37_row22_col1, #T_a4c37_row22_col2, #T_a4c37_row23_col1, #T_a4c37_row23_col2, #T_a4c37_row24_col1, #T_a4c37_row24_col2, #T_a4c37_row24_col3, #T_a4c37_row25_col1, #T_a4c37_row25_col2, #T_a4c37_row25_col3, #T_a4c37_row26_col1, #T_a4c37_row26_col2, #T_a4c37_row27_col1, #T_a4c37_row27_col2, #T_a4c37_row28_col1, #T_a4c37_row28_col2, #T_a4c37_row29_col1, #T_a4c37_row29_col2, #T_a4c37_row29_col3, #T_a4c37_row30_col1, #T_a4c37_row30_col2, #T_a4c37_row30_col3, #T_a4c37_row31_col1, #T_a4c37_row31_col2, #T_a4c37_row31_col3, #T_a4c37_row32_col1, #T_a4c37_row32_col2, #T_a4c37_row32_col3, #T_a4c37_row33_col1, #T_a4c37_row33_col2, #T_a4c37_row33_col3, #T_a4c37_row34_col1, #T_a4c37_row34_col2, #T_a4c37_row34_col3, #T_a4c37_row35_col1, #T_a4c37_row35_col2, #T_a4c37_row35_col3, #T_a4c37_row36_col1, #T_a4c37_row36_col2, #T_a4c37_row36_col3, #T_a4c37_row37_col1, #T_a4c37_row37_col2, #T_a4c37_row37_col3, #T_a4c37_row38_col1, #T_a4c37_row38_col2, #T_a4c37_row38_col3, #T_a4c37_row39_col1, #T_a4c37_row39_col2, #T_a4c37_row39_col3, #T_a4c37_row40_col1, #T_a4c37_row40_col2, #T_a4c37_row40_col3, #T_a4c37_row41_col1, #T_a4c37_row41_col2, #T_a4c37_row41_col3, #T_a4c37_row42_col1, #T_a4c37_row42_col2, #T_a4c37_row42_col3, #T_a4c37_row43_col1, #T_a4c37_row43_col2, #T_a4c37_row43_col3, #T_a4c37_row44_col1, #T_a4c37_row44_col2, #T_a4c37_row44_col3, #T_a4c37_row45_col1, #T_a4c37_row45_col2, #T_a4c37_row45_col3 {\n",
       "  background-color: #fff7fb;\n",
       "  color: #000000;\n",
       "}\n",
       "#T_a4c37_row0_col3, #T_a4c37_row3_col3, #T_a4c37_row4_col3 {\n",
       "  background-color: #023858;\n",
       "  color: #f1f1f1;\n",
       "}\n",
       "#T_a4c37_row5_col3, #T_a4c37_row6_col3 {\n",
       "  background-color: #023b5d;\n",
       "  color: #f1f1f1;\n",
       "}\n",
       "#T_a4c37_row7_col3, #T_a4c37_row8_col3 {\n",
       "  background-color: #023d60;\n",
       "  color: #f1f1f1;\n",
       "}\n",
       "#T_a4c37_row9_col3 {\n",
       "  background-color: #cdd0e5;\n",
       "  color: #000000;\n",
       "}\n",
       "#T_a4c37_row10_col3 {\n",
       "  background-color: #034267;\n",
       "  color: #f1f1f1;\n",
       "}\n",
       "#T_a4c37_row11_col3 {\n",
       "  background-color: #5a9ec9;\n",
       "  color: #f1f1f1;\n",
       "}\n",
       "#T_a4c37_row12_col3 {\n",
       "  background-color: #ced0e6;\n",
       "  color: #000000;\n",
       "}\n",
       "#T_a4c37_row13_col3 {\n",
       "  background-color: #f4edf6;\n",
       "  color: #000000;\n",
       "}\n",
       "#T_a4c37_row14_col3, #T_a4c37_row26_col3, #T_a4c37_row27_col3, #T_a4c37_row28_col3 {\n",
       "  background-color: #fef6fb;\n",
       "  color: #000000;\n",
       "}\n",
       "#T_a4c37_row15_col3 {\n",
       "  background-color: #2987bc;\n",
       "  color: #f1f1f1;\n",
       "}\n",
       "#T_a4c37_row18_col3 {\n",
       "  background-color: #f0eaf4;\n",
       "  color: #000000;\n",
       "}\n",
       "#T_a4c37_row19_col3 {\n",
       "  background-color: #034871;\n",
       "  color: #f1f1f1;\n",
       "}\n",
       "#T_a4c37_row20_col3 {\n",
       "  background-color: #fdf5fa;\n",
       "  color: #000000;\n",
       "}\n",
       "#T_a4c37_row21_col3 {\n",
       "  background-color: #fcf4fa;\n",
       "  color: #000000;\n",
       "}\n",
       "#T_a4c37_row22_col3 {\n",
       "  background-color: #fef6fa;\n",
       "  color: #000000;\n",
       "}\n",
       "#T_a4c37_row23_col3 {\n",
       "  background-color: #f6eff7;\n",
       "  color: #000000;\n",
       "}\n",
       "</style>\n",
       "<table id=\"T_a4c37\">\n",
       "  <thead>\n",
       "    <tr>\n",
       "      <th class=\"blank level0\" >&nbsp;</th>\n",
       "      <th id=\"T_a4c37_level0_col0\" class=\"col_heading level0 col0\" >data type</th>\n",
       "      <th id=\"T_a4c37_level0_col1\" class=\"col_heading level0 col1\" >#missing</th>\n",
       "      <th id=\"T_a4c37_level0_col2\" class=\"col_heading level0 col2\" >Duplicate</th>\n",
       "      <th id=\"T_a4c37_level0_col3\" class=\"col_heading level0 col3\" >#unique</th>\n",
       "      <th id=\"T_a4c37_level0_col4\" class=\"col_heading level0 col4\" >min</th>\n",
       "      <th id=\"T_a4c37_level0_col5\" class=\"col_heading level0 col5\" >max</th>\n",
       "      <th id=\"T_a4c37_level0_col6\" class=\"col_heading level0 col6\" >avg</th>\n",
       "      <th id=\"T_a4c37_level0_col7\" class=\"col_heading level0 col7\" >std dev</th>\n",
       "      <th id=\"T_a4c37_level0_col8\" class=\"col_heading level0 col8\" >top value</th>\n",
       "      <th id=\"T_a4c37_level0_col9\" class=\"col_heading level0 col9\" >Freq</th>\n",
       "    </tr>\n",
       "  </thead>\n",
       "  <tbody>\n",
       "    <tr>\n",
       "      <th id=\"T_a4c37_level0_row0\" class=\"row_heading level0 row0\" >ID</th>\n",
       "      <td id=\"T_a4c37_row0_col0\" class=\"data row0 col0\" >object</td>\n",
       "      <td id=\"T_a4c37_row0_col1\" class=\"data row0 col1\" >0</td>\n",
       "      <td id=\"T_a4c37_row0_col2\" class=\"data row0 col2\" >0</td>\n",
       "      <td id=\"T_a4c37_row0_col3\" class=\"data row0 col3\" >10000</td>\n",
       "      <td id=\"T_a4c37_row0_col4\" class=\"data row0 col4\" >nan</td>\n",
       "      <td id=\"T_a4c37_row0_col5\" class=\"data row0 col5\" >nan</td>\n",
       "      <td id=\"T_a4c37_row0_col6\" class=\"data row0 col6\" >nan</td>\n",
       "      <td id=\"T_a4c37_row0_col7\" class=\"data row0 col7\" >nan</td>\n",
       "      <td id=\"T_a4c37_row0_col8\" class=\"data row0 col8\" >A-7378431</td>\n",
       "      <td id=\"T_a4c37_row0_col9\" class=\"data row0 col9\" >1</td>\n",
       "    </tr>\n",
       "    <tr>\n",
       "      <th id=\"T_a4c37_level0_row1\" class=\"row_heading level0 row1\" >Source</th>\n",
       "      <td id=\"T_a4c37_row1_col0\" class=\"data row1 col0\" >object</td>\n",
       "      <td id=\"T_a4c37_row1_col1\" class=\"data row1 col1\" >0</td>\n",
       "      <td id=\"T_a4c37_row1_col2\" class=\"data row1 col2\" >0</td>\n",
       "      <td id=\"T_a4c37_row1_col3\" class=\"data row1 col3\" >1</td>\n",
       "      <td id=\"T_a4c37_row1_col4\" class=\"data row1 col4\" >nan</td>\n",
       "      <td id=\"T_a4c37_row1_col5\" class=\"data row1 col5\" >nan</td>\n",
       "      <td id=\"T_a4c37_row1_col6\" class=\"data row1 col6\" >nan</td>\n",
       "      <td id=\"T_a4c37_row1_col7\" class=\"data row1 col7\" >nan</td>\n",
       "      <td id=\"T_a4c37_row1_col8\" class=\"data row1 col8\" >Source1</td>\n",
       "      <td id=\"T_a4c37_row1_col9\" class=\"data row1 col9\" >10000</td>\n",
       "    </tr>\n",
       "    <tr>\n",
       "      <th id=\"T_a4c37_level0_row2\" class=\"row_heading level0 row2\" >Severity</th>\n",
       "      <td id=\"T_a4c37_row2_col0\" class=\"data row2 col0\" >int64</td>\n",
       "      <td id=\"T_a4c37_row2_col1\" class=\"data row2 col1\" >0</td>\n",
       "      <td id=\"T_a4c37_row2_col2\" class=\"data row2 col2\" >0</td>\n",
       "      <td id=\"T_a4c37_row2_col3\" class=\"data row2 col3\" >4</td>\n",
       "      <td id=\"T_a4c37_row2_col4\" class=\"data row2 col4\" >1.000000</td>\n",
       "      <td id=\"T_a4c37_row2_col5\" class=\"data row2 col5\" >4.000000</td>\n",
       "      <td id=\"T_a4c37_row2_col6\" class=\"data row2 col6\" >2.078200</td>\n",
       "      <td id=\"T_a4c37_row2_col7\" class=\"data row2 col7\" >0.390769</td>\n",
       "      <td id=\"T_a4c37_row2_col8\" class=\"data row2 col8\" >nan</td>\n",
       "      <td id=\"T_a4c37_row2_col9\" class=\"data row2 col9\" >nan</td>\n",
       "    </tr>\n",
       "    <tr>\n",
       "      <th id=\"T_a4c37_level0_row3\" class=\"row_heading level0 row3\" >Start_Time</th>\n",
       "      <td id=\"T_a4c37_row3_col0\" class=\"data row3 col0\" >datetime64[ns]</td>\n",
       "      <td id=\"T_a4c37_row3_col1\" class=\"data row3 col1\" >0</td>\n",
       "      <td id=\"T_a4c37_row3_col2\" class=\"data row3 col2\" >0</td>\n",
       "      <td id=\"T_a4c37_row3_col3\" class=\"data row3 col3\" >9972</td>\n",
       "      <td id=\"T_a4c37_row3_col4\" class=\"data row3 col4\" >2016-03-29 20:36:43</td>\n",
       "      <td id=\"T_a4c37_row3_col5\" class=\"data row3 col5\" >2023-03-31 18:22:00</td>\n",
       "      <td id=\"T_a4c37_row3_col6\" class=\"data row3 col6\" >2021-09-24 22:54:20.786200064</td>\n",
       "      <td id=\"T_a4c37_row3_col7\" class=\"data row3 col7\" >nan</td>\n",
       "      <td id=\"T_a4c37_row3_col8\" class=\"data row3 col8\" >nan</td>\n",
       "      <td id=\"T_a4c37_row3_col9\" class=\"data row3 col9\" >nan</td>\n",
       "    </tr>\n",
       "    <tr>\n",
       "      <th id=\"T_a4c37_level0_row4\" class=\"row_heading level0 row4\" >End_Time</th>\n",
       "      <td id=\"T_a4c37_row4_col0\" class=\"data row4 col0\" >datetime64[ns]</td>\n",
       "      <td id=\"T_a4c37_row4_col1\" class=\"data row4 col1\" >0</td>\n",
       "      <td id=\"T_a4c37_row4_col2\" class=\"data row4 col2\" >0</td>\n",
       "      <td id=\"T_a4c37_row4_col3\" class=\"data row4 col3\" >9990</td>\n",
       "      <td id=\"T_a4c37_row4_col4\" class=\"data row4 col4\" >2016-03-30 02:36:43</td>\n",
       "      <td id=\"T_a4c37_row4_col5\" class=\"data row4 col5\" >2023-03-31 20:42:43</td>\n",
       "      <td id=\"T_a4c37_row4_col6\" class=\"data row4 col6\" >2021-09-25 13:29:11.744299776</td>\n",
       "      <td id=\"T_a4c37_row4_col7\" class=\"data row4 col7\" >nan</td>\n",
       "      <td id=\"T_a4c37_row4_col8\" class=\"data row4 col8\" >nan</td>\n",
       "      <td id=\"T_a4c37_row4_col9\" class=\"data row4 col9\" >nan</td>\n",
       "    </tr>\n",
       "    <tr>\n",
       "      <th id=\"T_a4c37_level0_row5\" class=\"row_heading level0 row5\" >Start_Lat</th>\n",
       "      <td id=\"T_a4c37_row5_col0\" class=\"data row5 col0\" >float64</td>\n",
       "      <td id=\"T_a4c37_row5_col1\" class=\"data row5 col1\" >0</td>\n",
       "      <td id=\"T_a4c37_row5_col2\" class=\"data row5 col2\" >0</td>\n",
       "      <td id=\"T_a4c37_row5_col3\" class=\"data row5 col3\" >9855</td>\n",
       "      <td id=\"T_a4c37_row5_col4\" class=\"data row5 col4\" >25.424922</td>\n",
       "      <td id=\"T_a4c37_row5_col5\" class=\"data row5 col5\" >48.993651</td>\n",
       "      <td id=\"T_a4c37_row5_col6\" class=\"data row5 col6\" >36.187580</td>\n",
       "      <td id=\"T_a4c37_row5_col7\" class=\"data row5 col7\" >5.332947</td>\n",
       "      <td id=\"T_a4c37_row5_col8\" class=\"data row5 col8\" >nan</td>\n",
       "      <td id=\"T_a4c37_row5_col9\" class=\"data row5 col9\" >nan</td>\n",
       "    </tr>\n",
       "    <tr>\n",
       "      <th id=\"T_a4c37_level0_row6\" class=\"row_heading level0 row6\" >Start_Lng</th>\n",
       "      <td id=\"T_a4c37_row6_col0\" class=\"data row6 col0\" >float64</td>\n",
       "      <td id=\"T_a4c37_row6_col1\" class=\"data row6 col1\" >0</td>\n",
       "      <td id=\"T_a4c37_row6_col2\" class=\"data row6 col2\" >0</td>\n",
       "      <td id=\"T_a4c37_row6_col3\" class=\"data row6 col3\" >9861</td>\n",
       "      <td id=\"T_a4c37_row6_col4\" class=\"data row6 col4\" >-124.387963</td>\n",
       "      <td id=\"T_a4c37_row6_col5\" class=\"data row6 col5\" >-68.371838</td>\n",
       "      <td id=\"T_a4c37_row6_col6\" class=\"data row6 col6\" >-95.514844</td>\n",
       "      <td id=\"T_a4c37_row6_col7\" class=\"data row6 col7\" >18.114642</td>\n",
       "      <td id=\"T_a4c37_row6_col8\" class=\"data row6 col8\" >nan</td>\n",
       "      <td id=\"T_a4c37_row6_col9\" class=\"data row6 col9\" >nan</td>\n",
       "    </tr>\n",
       "    <tr>\n",
       "      <th id=\"T_a4c37_level0_row7\" class=\"row_heading level0 row7\" >End_Lat</th>\n",
       "      <td id=\"T_a4c37_row7_col0\" class=\"data row7 col0\" >float64</td>\n",
       "      <td id=\"T_a4c37_row7_col1\" class=\"data row7 col1\" >0</td>\n",
       "      <td id=\"T_a4c37_row7_col2\" class=\"data row7 col2\" >0</td>\n",
       "      <td id=\"T_a4c37_row7_col3\" class=\"data row7 col3\" >9768</td>\n",
       "      <td id=\"T_a4c37_row7_col4\" class=\"data row7 col4\" >25.422156</td>\n",
       "      <td id=\"T_a4c37_row7_col5\" class=\"data row7 col5\" >48.995108</td>\n",
       "      <td id=\"T_a4c37_row7_col6\" class=\"data row7 col6\" >36.187684</td>\n",
       "      <td id=\"T_a4c37_row7_col7\" class=\"data row7 col7\" >5.333121</td>\n",
       "      <td id=\"T_a4c37_row7_col8\" class=\"data row7 col8\" >nan</td>\n",
       "      <td id=\"T_a4c37_row7_col9\" class=\"data row7 col9\" >nan</td>\n",
       "    </tr>\n",
       "    <tr>\n",
       "      <th id=\"T_a4c37_level0_row8\" class=\"row_heading level0 row8\" >End_Lng</th>\n",
       "      <td id=\"T_a4c37_row8_col0\" class=\"data row8 col0\" >float64</td>\n",
       "      <td id=\"T_a4c37_row8_col1\" class=\"data row8 col1\" >0</td>\n",
       "      <td id=\"T_a4c37_row8_col2\" class=\"data row8 col2\" >0</td>\n",
       "      <td id=\"T_a4c37_row8_col3\" class=\"data row8 col3\" >9769</td>\n",
       "      <td id=\"T_a4c37_row8_col4\" class=\"data row8 col4\" >-124.391361</td>\n",
       "      <td id=\"T_a4c37_row8_col5\" class=\"data row8 col5\" >-68.371538</td>\n",
       "      <td id=\"T_a4c37_row8_col6\" class=\"data row8 col6\" >-95.514442</td>\n",
       "      <td id=\"T_a4c37_row8_col7\" class=\"data row8 col7\" >18.114157</td>\n",
       "      <td id=\"T_a4c37_row8_col8\" class=\"data row8 col8\" >nan</td>\n",
       "      <td id=\"T_a4c37_row8_col9\" class=\"data row8 col9\" >nan</td>\n",
       "    </tr>\n",
       "    <tr>\n",
       "      <th id=\"T_a4c37_level0_row9\" class=\"row_heading level0 row9\" >Distance(mi)</th>\n",
       "      <td id=\"T_a4c37_row9_col0\" class=\"data row9 col0\" >float64</td>\n",
       "      <td id=\"T_a4c37_row9_col1\" class=\"data row9 col1\" >0</td>\n",
       "      <td id=\"T_a4c37_row9_col2\" class=\"data row9 col2\" >0</td>\n",
       "      <td id=\"T_a4c37_row9_col3\" class=\"data row9 col3\" >2615</td>\n",
       "      <td id=\"T_a4c37_row9_col4\" class=\"data row9 col4\" >0.000000</td>\n",
       "      <td id=\"T_a4c37_row9_col5\" class=\"data row9 col5\" >65.009000</td>\n",
       "      <td id=\"T_a4c37_row9_col6\" class=\"data row9 col6\" >0.830385</td>\n",
       "      <td id=\"T_a4c37_row9_col7\" class=\"data row9 col7\" >1.689067</td>\n",
       "      <td id=\"T_a4c37_row9_col8\" class=\"data row9 col8\" >nan</td>\n",
       "      <td id=\"T_a4c37_row9_col9\" class=\"data row9 col9\" >nan</td>\n",
       "    </tr>\n",
       "    <tr>\n",
       "      <th id=\"T_a4c37_level0_row10\" class=\"row_heading level0 row10\" >Description</th>\n",
       "      <td id=\"T_a4c37_row10_col0\" class=\"data row10 col0\" >object</td>\n",
       "      <td id=\"T_a4c37_row10_col1\" class=\"data row10 col1\" >0</td>\n",
       "      <td id=\"T_a4c37_row10_col2\" class=\"data row10 col2\" >0</td>\n",
       "      <td id=\"T_a4c37_row10_col3\" class=\"data row10 col3\" >9630</td>\n",
       "      <td id=\"T_a4c37_row10_col4\" class=\"data row10 col4\" >nan</td>\n",
       "      <td id=\"T_a4c37_row10_col5\" class=\"data row10 col5\" >nan</td>\n",
       "      <td id=\"T_a4c37_row10_col6\" class=\"data row10 col6\" >nan</td>\n",
       "      <td id=\"T_a4c37_row10_col7\" class=\"data row10 col7\" >nan</td>\n",
       "      <td id=\"T_a4c37_row10_col8\" class=\"data row10 col8\" >A crash has occurred causing no to minimum delays. Use caution.</td>\n",
       "      <td id=\"T_a4c37_row10_col9\" class=\"data row10 col9\" >27</td>\n",
       "    </tr>\n",
       "    <tr>\n",
       "      <th id=\"T_a4c37_level0_row11\" class=\"row_heading level0 row11\" >Street</th>\n",
       "      <td id=\"T_a4c37_row11_col0\" class=\"data row11 col0\" >object</td>\n",
       "      <td id=\"T_a4c37_row11_col1\" class=\"data row11 col1\" >0</td>\n",
       "      <td id=\"T_a4c37_row11_col2\" class=\"data row11 col2\" >0</td>\n",
       "      <td id=\"T_a4c37_row11_col3\" class=\"data row11 col3\" >5510</td>\n",
       "      <td id=\"T_a4c37_row11_col4\" class=\"data row11 col4\" >nan</td>\n",
       "      <td id=\"T_a4c37_row11_col5\" class=\"data row11 col5\" >nan</td>\n",
       "      <td id=\"T_a4c37_row11_col6\" class=\"data row11 col6\" >nan</td>\n",
       "      <td id=\"T_a4c37_row11_col7\" class=\"data row11 col7\" >nan</td>\n",
       "      <td id=\"T_a4c37_row11_col8\" class=\"data row11 col8\" >I-5 S</td>\n",
       "      <td id=\"T_a4c37_row11_col9\" class=\"data row11 col9\" >106</td>\n",
       "    </tr>\n",
       "    <tr>\n",
       "      <th id=\"T_a4c37_level0_row12\" class=\"row_heading level0 row12\" >City</th>\n",
       "      <td id=\"T_a4c37_row12_col0\" class=\"data row12 col0\" >object</td>\n",
       "      <td id=\"T_a4c37_row12_col1\" class=\"data row12 col1\" >0</td>\n",
       "      <td id=\"T_a4c37_row12_col2\" class=\"data row12 col2\" >0</td>\n",
       "      <td id=\"T_a4c37_row12_col3\" class=\"data row12 col3\" >2577</td>\n",
       "      <td id=\"T_a4c37_row12_col4\" class=\"data row12 col4\" >nan</td>\n",
       "      <td id=\"T_a4c37_row12_col5\" class=\"data row12 col5\" >nan</td>\n",
       "      <td id=\"T_a4c37_row12_col6\" class=\"data row12 col6\" >nan</td>\n",
       "      <td id=\"T_a4c37_row12_col7\" class=\"data row12 col7\" >nan</td>\n",
       "      <td id=\"T_a4c37_row12_col8\" class=\"data row12 col8\" >Miami</td>\n",
       "      <td id=\"T_a4c37_row12_col9\" class=\"data row12 col9\" >381</td>\n",
       "    </tr>\n",
       "    <tr>\n",
       "      <th id=\"T_a4c37_level0_row13\" class=\"row_heading level0 row13\" >County</th>\n",
       "      <td id=\"T_a4c37_row13_col0\" class=\"data row13 col0\" >object</td>\n",
       "      <td id=\"T_a4c37_row13_col1\" class=\"data row13 col1\" >0</td>\n",
       "      <td id=\"T_a4c37_row13_col2\" class=\"data row13 col2\" >0</td>\n",
       "      <td id=\"T_a4c37_row13_col3\" class=\"data row13 col3\" >770</td>\n",
       "      <td id=\"T_a4c37_row13_col4\" class=\"data row13 col4\" >nan</td>\n",
       "      <td id=\"T_a4c37_row13_col5\" class=\"data row13 col5\" >nan</td>\n",
       "      <td id=\"T_a4c37_row13_col6\" class=\"data row13 col6\" >nan</td>\n",
       "      <td id=\"T_a4c37_row13_col7\" class=\"data row13 col7\" >nan</td>\n",
       "      <td id=\"T_a4c37_row13_col8\" class=\"data row13 col8\" >Los Angeles</td>\n",
       "      <td id=\"T_a4c37_row13_col9\" class=\"data row13 col9\" >670</td>\n",
       "    </tr>\n",
       "    <tr>\n",
       "      <th id=\"T_a4c37_level0_row14\" class=\"row_heading level0 row14\" >State</th>\n",
       "      <td id=\"T_a4c37_row14_col0\" class=\"data row14 col0\" >object</td>\n",
       "      <td id=\"T_a4c37_row14_col1\" class=\"data row14 col1\" >0</td>\n",
       "      <td id=\"T_a4c37_row14_col2\" class=\"data row14 col2\" >0</td>\n",
       "      <td id=\"T_a4c37_row14_col3\" class=\"data row14 col3\" >47</td>\n",
       "      <td id=\"T_a4c37_row14_col4\" class=\"data row14 col4\" >nan</td>\n",
       "      <td id=\"T_a4c37_row14_col5\" class=\"data row14 col5\" >nan</td>\n",
       "      <td id=\"T_a4c37_row14_col6\" class=\"data row14 col6\" >nan</td>\n",
       "      <td id=\"T_a4c37_row14_col7\" class=\"data row14 col7\" >nan</td>\n",
       "      <td id=\"T_a4c37_row14_col8\" class=\"data row14 col8\" >CA</td>\n",
       "      <td id=\"T_a4c37_row14_col9\" class=\"data row14 col9\" >2512</td>\n",
       "    </tr>\n",
       "    <tr>\n",
       "      <th id=\"T_a4c37_level0_row15\" class=\"row_heading level0 row15\" >Zipcode</th>\n",
       "      <td id=\"T_a4c37_row15_col0\" class=\"data row15 col0\" >object</td>\n",
       "      <td id=\"T_a4c37_row15_col1\" class=\"data row15 col1\" >0</td>\n",
       "      <td id=\"T_a4c37_row15_col2\" class=\"data row15 col2\" >0</td>\n",
       "      <td id=\"T_a4c37_row15_col3\" class=\"data row15 col3\" >6574</td>\n",
       "      <td id=\"T_a4c37_row15_col4\" class=\"data row15 col4\" >nan</td>\n",
       "      <td id=\"T_a4c37_row15_col5\" class=\"data row15 col5\" >nan</td>\n",
       "      <td id=\"T_a4c37_row15_col6\" class=\"data row15 col6\" >nan</td>\n",
       "      <td id=\"T_a4c37_row15_col7\" class=\"data row15 col7\" >nan</td>\n",
       "      <td id=\"T_a4c37_row15_col8\" class=\"data row15 col8\" >91761</td>\n",
       "      <td id=\"T_a4c37_row15_col9\" class=\"data row15 col9\" >24</td>\n",
       "    </tr>\n",
       "    <tr>\n",
       "      <th id=\"T_a4c37_level0_row16\" class=\"row_heading level0 row16\" >Country</th>\n",
       "      <td id=\"T_a4c37_row16_col0\" class=\"data row16 col0\" >object</td>\n",
       "      <td id=\"T_a4c37_row16_col1\" class=\"data row16 col1\" >0</td>\n",
       "      <td id=\"T_a4c37_row16_col2\" class=\"data row16 col2\" >0</td>\n",
       "      <td id=\"T_a4c37_row16_col3\" class=\"data row16 col3\" >1</td>\n",
       "      <td id=\"T_a4c37_row16_col4\" class=\"data row16 col4\" >nan</td>\n",
       "      <td id=\"T_a4c37_row16_col5\" class=\"data row16 col5\" >nan</td>\n",
       "      <td id=\"T_a4c37_row16_col6\" class=\"data row16 col6\" >nan</td>\n",
       "      <td id=\"T_a4c37_row16_col7\" class=\"data row16 col7\" >nan</td>\n",
       "      <td id=\"T_a4c37_row16_col8\" class=\"data row16 col8\" >US</td>\n",
       "      <td id=\"T_a4c37_row16_col9\" class=\"data row16 col9\" >10000</td>\n",
       "    </tr>\n",
       "    <tr>\n",
       "      <th id=\"T_a4c37_level0_row17\" class=\"row_heading level0 row17\" >Timezone</th>\n",
       "      <td id=\"T_a4c37_row17_col0\" class=\"data row17 col0\" >object</td>\n",
       "      <td id=\"T_a4c37_row17_col1\" class=\"data row17 col1\" >0</td>\n",
       "      <td id=\"T_a4c37_row17_col2\" class=\"data row17 col2\" >0</td>\n",
       "      <td id=\"T_a4c37_row17_col3\" class=\"data row17 col3\" >4</td>\n",
       "      <td id=\"T_a4c37_row17_col4\" class=\"data row17 col4\" >nan</td>\n",
       "      <td id=\"T_a4c37_row17_col5\" class=\"data row17 col5\" >nan</td>\n",
       "      <td id=\"T_a4c37_row17_col6\" class=\"data row17 col6\" >nan</td>\n",
       "      <td id=\"T_a4c37_row17_col7\" class=\"data row17 col7\" >nan</td>\n",
       "      <td id=\"T_a4c37_row17_col8\" class=\"data row17 col8\" >US/Eastern</td>\n",
       "      <td id=\"T_a4c37_row17_col9\" class=\"data row17 col9\" >4708</td>\n",
       "    </tr>\n",
       "    <tr>\n",
       "      <th id=\"T_a4c37_level0_row18\" class=\"row_heading level0 row18\" >Airport_Code</th>\n",
       "      <td id=\"T_a4c37_row18_col0\" class=\"data row18 col0\" >object</td>\n",
       "      <td id=\"T_a4c37_row18_col1\" class=\"data row18 col1\" >0</td>\n",
       "      <td id=\"T_a4c37_row18_col2\" class=\"data row18 col2\" >0</td>\n",
       "      <td id=\"T_a4c37_row18_col3\" class=\"data row18 col3\" >987</td>\n",
       "      <td id=\"T_a4c37_row18_col4\" class=\"data row18 col4\" >nan</td>\n",
       "      <td id=\"T_a4c37_row18_col5\" class=\"data row18 col5\" >nan</td>\n",
       "      <td id=\"T_a4c37_row18_col6\" class=\"data row18 col6\" >nan</td>\n",
       "      <td id=\"T_a4c37_row18_col7\" class=\"data row18 col7\" >nan</td>\n",
       "      <td id=\"T_a4c37_row18_col8\" class=\"data row18 col8\" >KCQT</td>\n",
       "      <td id=\"T_a4c37_row18_col9\" class=\"data row18 col9\" >184</td>\n",
       "    </tr>\n",
       "    <tr>\n",
       "      <th id=\"T_a4c37_level0_row19\" class=\"row_heading level0 row19\" >Weather_Timestamp</th>\n",
       "      <td id=\"T_a4c37_row19_col0\" class=\"data row19 col0\" >object</td>\n",
       "      <td id=\"T_a4c37_row19_col1\" class=\"data row19 col1\" >0</td>\n",
       "      <td id=\"T_a4c37_row19_col2\" class=\"data row19 col2\" >0</td>\n",
       "      <td id=\"T_a4c37_row19_col3\" class=\"data row19 col3\" >9391</td>\n",
       "      <td id=\"T_a4c37_row19_col4\" class=\"data row19 col4\" >nan</td>\n",
       "      <td id=\"T_a4c37_row19_col5\" class=\"data row19 col5\" >nan</td>\n",
       "      <td id=\"T_a4c37_row19_col6\" class=\"data row19 col6\" >nan</td>\n",
       "      <td id=\"T_a4c37_row19_col7\" class=\"data row19 col7\" >nan</td>\n",
       "      <td id=\"T_a4c37_row19_col8\" class=\"data row19 col8\" >2022-03-13 01:53:00</td>\n",
       "      <td id=\"T_a4c37_row19_col9\" class=\"data row19 col9\" >5</td>\n",
       "    </tr>\n",
       "    <tr>\n",
       "      <th id=\"T_a4c37_level0_row20\" class=\"row_heading level0 row20\" >Temperature(F)</th>\n",
       "      <td id=\"T_a4c37_row20_col0\" class=\"data row20 col0\" >float64</td>\n",
       "      <td id=\"T_a4c37_row20_col1\" class=\"data row20 col1\" >0</td>\n",
       "      <td id=\"T_a4c37_row20_col2\" class=\"data row20 col2\" >0</td>\n",
       "      <td id=\"T_a4c37_row20_col3\" class=\"data row20 col3\" >139</td>\n",
       "      <td id=\"T_a4c37_row20_col4\" class=\"data row20 col4\" >-35.000000</td>\n",
       "      <td id=\"T_a4c37_row20_col5\" class=\"data row20 col5\" >111.000000</td>\n",
       "      <td id=\"T_a4c37_row20_col6\" class=\"data row20 col6\" >61.214260</td>\n",
       "      <td id=\"T_a4c37_row20_col7\" class=\"data row20 col7\" >19.394505</td>\n",
       "      <td id=\"T_a4c37_row20_col8\" class=\"data row20 col8\" >nan</td>\n",
       "      <td id=\"T_a4c37_row20_col9\" class=\"data row20 col9\" >nan</td>\n",
       "    </tr>\n",
       "    <tr>\n",
       "      <th id=\"T_a4c37_level0_row21\" class=\"row_heading level0 row21\" >Wind_Chill(F)</th>\n",
       "      <td id=\"T_a4c37_row21_col0\" class=\"data row21 col0\" >float64</td>\n",
       "      <td id=\"T_a4c37_row21_col1\" class=\"data row21 col1\" >0</td>\n",
       "      <td id=\"T_a4c37_row21_col2\" class=\"data row21 col2\" >0</td>\n",
       "      <td id=\"T_a4c37_row21_col3\" class=\"data row21 col3\" >212</td>\n",
       "      <td id=\"T_a4c37_row21_col4\" class=\"data row21 col4\" >-63.000000</td>\n",
       "      <td id=\"T_a4c37_row21_col5\" class=\"data row21 col5\" >111.000000</td>\n",
       "      <td id=\"T_a4c37_row21_col6\" class=\"data row21 col6\" >59.877260</td>\n",
       "      <td id=\"T_a4c37_row21_col7\" class=\"data row21 col7\" >21.676931</td>\n",
       "      <td id=\"T_a4c37_row21_col8\" class=\"data row21 col8\" >nan</td>\n",
       "      <td id=\"T_a4c37_row21_col9\" class=\"data row21 col9\" >nan</td>\n",
       "    </tr>\n",
       "    <tr>\n",
       "      <th id=\"T_a4c37_level0_row22\" class=\"row_heading level0 row22\" >Humidity(%)</th>\n",
       "      <td id=\"T_a4c37_row22_col0\" class=\"data row22 col0\" >float64</td>\n",
       "      <td id=\"T_a4c37_row22_col1\" class=\"data row22 col1\" >0</td>\n",
       "      <td id=\"T_a4c37_row22_col2\" class=\"data row22 col2\" >0</td>\n",
       "      <td id=\"T_a4c37_row22_col3\" class=\"data row22 col3\" >98</td>\n",
       "      <td id=\"T_a4c37_row22_col4\" class=\"data row22 col4\" >3.000000</td>\n",
       "      <td id=\"T_a4c37_row22_col5\" class=\"data row22 col5\" >100.000000</td>\n",
       "      <td id=\"T_a4c37_row22_col6\" class=\"data row22 col6\" >63.636500</td>\n",
       "      <td id=\"T_a4c37_row22_col7\" class=\"data row22 col7\" >22.943361</td>\n",
       "      <td id=\"T_a4c37_row22_col8\" class=\"data row22 col8\" >nan</td>\n",
       "      <td id=\"T_a4c37_row22_col9\" class=\"data row22 col9\" >nan</td>\n",
       "    </tr>\n",
       "    <tr>\n",
       "      <th id=\"T_a4c37_level0_row23\" class=\"row_heading level0 row23\" >Pressure(in)</th>\n",
       "      <td id=\"T_a4c37_row23_col0\" class=\"data row23 col0\" >float64</td>\n",
       "      <td id=\"T_a4c37_row23_col1\" class=\"data row23 col1\" >0</td>\n",
       "      <td id=\"T_a4c37_row23_col2\" class=\"data row23 col2\" >0</td>\n",
       "      <td id=\"T_a4c37_row23_col3\" class=\"data row23 col3\" >622</td>\n",
       "      <td id=\"T_a4c37_row23_col4\" class=\"data row23 col4\" >20.250000</td>\n",
       "      <td id=\"T_a4c37_row23_col5\" class=\"data row23 col5\" >30.630000</td>\n",
       "      <td id=\"T_a4c37_row23_col6\" class=\"data row23 col6\" >29.338659</td>\n",
       "      <td id=\"T_a4c37_row23_col7\" class=\"data row23 col7\" >1.151376</td>\n",
       "      <td id=\"T_a4c37_row23_col8\" class=\"data row23 col8\" >nan</td>\n",
       "      <td id=\"T_a4c37_row23_col9\" class=\"data row23 col9\" >nan</td>\n",
       "    </tr>\n",
       "    <tr>\n",
       "      <th id=\"T_a4c37_level0_row24\" class=\"row_heading level0 row24\" >Visibility(mi)</th>\n",
       "      <td id=\"T_a4c37_row24_col0\" class=\"data row24 col0\" >float64</td>\n",
       "      <td id=\"T_a4c37_row24_col1\" class=\"data row24 col1\" >0</td>\n",
       "      <td id=\"T_a4c37_row24_col2\" class=\"data row24 col2\" >0</td>\n",
       "      <td id=\"T_a4c37_row24_col3\" class=\"data row24 col3\" >28</td>\n",
       "      <td id=\"T_a4c37_row24_col4\" class=\"data row24 col4\" >0.000000</td>\n",
       "      <td id=\"T_a4c37_row24_col5\" class=\"data row24 col5\" >50.000000</td>\n",
       "      <td id=\"T_a4c37_row24_col6\" class=\"data row24 col6\" >9.076278</td>\n",
       "      <td id=\"T_a4c37_row24_col7\" class=\"data row24 col7\" >2.530630</td>\n",
       "      <td id=\"T_a4c37_row24_col8\" class=\"data row24 col8\" >nan</td>\n",
       "      <td id=\"T_a4c37_row24_col9\" class=\"data row24 col9\" >nan</td>\n",
       "    </tr>\n",
       "    <tr>\n",
       "      <th id=\"T_a4c37_level0_row25\" class=\"row_heading level0 row25\" >Wind_Direction</th>\n",
       "      <td id=\"T_a4c37_row25_col0\" class=\"data row25 col0\" >object</td>\n",
       "      <td id=\"T_a4c37_row25_col1\" class=\"data row25 col1\" >0</td>\n",
       "      <td id=\"T_a4c37_row25_col2\" class=\"data row25 col2\" >0</td>\n",
       "      <td id=\"T_a4c37_row25_col3\" class=\"data row25 col3\" >23</td>\n",
       "      <td id=\"T_a4c37_row25_col4\" class=\"data row25 col4\" >nan</td>\n",
       "      <td id=\"T_a4c37_row25_col5\" class=\"data row25 col5\" >nan</td>\n",
       "      <td id=\"T_a4c37_row25_col6\" class=\"data row25 col6\" >nan</td>\n",
       "      <td id=\"T_a4c37_row25_col7\" class=\"data row25 col7\" >nan</td>\n",
       "      <td id=\"T_a4c37_row25_col8\" class=\"data row25 col8\" >CALM</td>\n",
       "      <td id=\"T_a4c37_row25_col9\" class=\"data row25 col9\" >1761</td>\n",
       "    </tr>\n",
       "    <tr>\n",
       "      <th id=\"T_a4c37_level0_row26\" class=\"row_heading level0 row26\" >Wind_Speed(mph)</th>\n",
       "      <td id=\"T_a4c37_row26_col0\" class=\"data row26 col0\" >float64</td>\n",
       "      <td id=\"T_a4c37_row26_col1\" class=\"data row26 col1\" >0</td>\n",
       "      <td id=\"T_a4c37_row26_col2\" class=\"data row26 col2\" >0</td>\n",
       "      <td id=\"T_a4c37_row26_col3\" class=\"data row26 col3\" >49</td>\n",
       "      <td id=\"T_a4c37_row26_col4\" class=\"data row26 col4\" >0.000000</td>\n",
       "      <td id=\"T_a4c37_row26_col5\" class=\"data row26 col5\" >55.000000</td>\n",
       "      <td id=\"T_a4c37_row26_col6\" class=\"data row26 col6\" >7.404630</td>\n",
       "      <td id=\"T_a4c37_row26_col7\" class=\"data row26 col7\" >5.560028</td>\n",
       "      <td id=\"T_a4c37_row26_col8\" class=\"data row26 col8\" >nan</td>\n",
       "      <td id=\"T_a4c37_row26_col9\" class=\"data row26 col9\" >nan</td>\n",
       "    </tr>\n",
       "    <tr>\n",
       "      <th id=\"T_a4c37_level0_row27\" class=\"row_heading level0 row27\" >Precipitation(in)</th>\n",
       "      <td id=\"T_a4c37_row27_col0\" class=\"data row27 col0\" >float64</td>\n",
       "      <td id=\"T_a4c37_row27_col1\" class=\"data row27 col1\" >0</td>\n",
       "      <td id=\"T_a4c37_row27_col2\" class=\"data row27 col2\" >0</td>\n",
       "      <td id=\"T_a4c37_row27_col3\" class=\"data row27 col3\" >52</td>\n",
       "      <td id=\"T_a4c37_row27_col4\" class=\"data row27 col4\" >0.000000</td>\n",
       "      <td id=\"T_a4c37_row27_col5\" class=\"data row27 col5\" >1.600000</td>\n",
       "      <td id=\"T_a4c37_row27_col6\" class=\"data row27 col6\" >0.005588</td>\n",
       "      <td id=\"T_a4c37_row27_col7\" class=\"data row27 col7\" >0.042354</td>\n",
       "      <td id=\"T_a4c37_row27_col8\" class=\"data row27 col8\" >nan</td>\n",
       "      <td id=\"T_a4c37_row27_col9\" class=\"data row27 col9\" >nan</td>\n",
       "    </tr>\n",
       "    <tr>\n",
       "      <th id=\"T_a4c37_level0_row28\" class=\"row_heading level0 row28\" >Weather_Condition</th>\n",
       "      <td id=\"T_a4c37_row28_col0\" class=\"data row28 col0\" >object</td>\n",
       "      <td id=\"T_a4c37_row28_col1\" class=\"data row28 col1\" >0</td>\n",
       "      <td id=\"T_a4c37_row28_col2\" class=\"data row28 col2\" >0</td>\n",
       "      <td id=\"T_a4c37_row28_col3\" class=\"data row28 col3\" >53</td>\n",
       "      <td id=\"T_a4c37_row28_col4\" class=\"data row28 col4\" >nan</td>\n",
       "      <td id=\"T_a4c37_row28_col5\" class=\"data row28 col5\" >nan</td>\n",
       "      <td id=\"T_a4c37_row28_col6\" class=\"data row28 col6\" >nan</td>\n",
       "      <td id=\"T_a4c37_row28_col7\" class=\"data row28 col7\" >nan</td>\n",
       "      <td id=\"T_a4c37_row28_col8\" class=\"data row28 col8\" >Fair</td>\n",
       "      <td id=\"T_a4c37_row28_col9\" class=\"data row28 col9\" >4835</td>\n",
       "    </tr>\n",
       "    <tr>\n",
       "      <th id=\"T_a4c37_level0_row29\" class=\"row_heading level0 row29\" >Amenity</th>\n",
       "      <td id=\"T_a4c37_row29_col0\" class=\"data row29 col0\" >bool</td>\n",
       "      <td id=\"T_a4c37_row29_col1\" class=\"data row29 col1\" >0</td>\n",
       "      <td id=\"T_a4c37_row29_col2\" class=\"data row29 col2\" >0</td>\n",
       "      <td id=\"T_a4c37_row29_col3\" class=\"data row29 col3\" >2</td>\n",
       "      <td id=\"T_a4c37_row29_col4\" class=\"data row29 col4\" >nan</td>\n",
       "      <td id=\"T_a4c37_row29_col5\" class=\"data row29 col5\" >nan</td>\n",
       "      <td id=\"T_a4c37_row29_col6\" class=\"data row29 col6\" >nan</td>\n",
       "      <td id=\"T_a4c37_row29_col7\" class=\"data row29 col7\" >nan</td>\n",
       "      <td id=\"T_a4c37_row29_col8\" class=\"data row29 col8\" >False</td>\n",
       "      <td id=\"T_a4c37_row29_col9\" class=\"data row29 col9\" >9869</td>\n",
       "    </tr>\n",
       "    <tr>\n",
       "      <th id=\"T_a4c37_level0_row30\" class=\"row_heading level0 row30\" >Bump</th>\n",
       "      <td id=\"T_a4c37_row30_col0\" class=\"data row30 col0\" >bool</td>\n",
       "      <td id=\"T_a4c37_row30_col1\" class=\"data row30 col1\" >0</td>\n",
       "      <td id=\"T_a4c37_row30_col2\" class=\"data row30 col2\" >0</td>\n",
       "      <td id=\"T_a4c37_row30_col3\" class=\"data row30 col3\" >2</td>\n",
       "      <td id=\"T_a4c37_row30_col4\" class=\"data row30 col4\" >nan</td>\n",
       "      <td id=\"T_a4c37_row30_col5\" class=\"data row30 col5\" >nan</td>\n",
       "      <td id=\"T_a4c37_row30_col6\" class=\"data row30 col6\" >nan</td>\n",
       "      <td id=\"T_a4c37_row30_col7\" class=\"data row30 col7\" >nan</td>\n",
       "      <td id=\"T_a4c37_row30_col8\" class=\"data row30 col8\" >False</td>\n",
       "      <td id=\"T_a4c37_row30_col9\" class=\"data row30 col9\" >9993</td>\n",
       "    </tr>\n",
       "    <tr>\n",
       "      <th id=\"T_a4c37_level0_row31\" class=\"row_heading level0 row31\" >Crossing</th>\n",
       "      <td id=\"T_a4c37_row31_col0\" class=\"data row31 col0\" >bool</td>\n",
       "      <td id=\"T_a4c37_row31_col1\" class=\"data row31 col1\" >0</td>\n",
       "      <td id=\"T_a4c37_row31_col2\" class=\"data row31 col2\" >0</td>\n",
       "      <td id=\"T_a4c37_row31_col3\" class=\"data row31 col3\" >2</td>\n",
       "      <td id=\"T_a4c37_row31_col4\" class=\"data row31 col4\" >nan</td>\n",
       "      <td id=\"T_a4c37_row31_col5\" class=\"data row31 col5\" >nan</td>\n",
       "      <td id=\"T_a4c37_row31_col6\" class=\"data row31 col6\" >nan</td>\n",
       "      <td id=\"T_a4c37_row31_col7\" class=\"data row31 col7\" >nan</td>\n",
       "      <td id=\"T_a4c37_row31_col8\" class=\"data row31 col8\" >False</td>\n",
       "      <td id=\"T_a4c37_row31_col9\" class=\"data row31 col9\" >9045</td>\n",
       "    </tr>\n",
       "    <tr>\n",
       "      <th id=\"T_a4c37_level0_row32\" class=\"row_heading level0 row32\" >Give_Way</th>\n",
       "      <td id=\"T_a4c37_row32_col0\" class=\"data row32 col0\" >bool</td>\n",
       "      <td id=\"T_a4c37_row32_col1\" class=\"data row32 col1\" >0</td>\n",
       "      <td id=\"T_a4c37_row32_col2\" class=\"data row32 col2\" >0</td>\n",
       "      <td id=\"T_a4c37_row32_col3\" class=\"data row32 col3\" >2</td>\n",
       "      <td id=\"T_a4c37_row32_col4\" class=\"data row32 col4\" >nan</td>\n",
       "      <td id=\"T_a4c37_row32_col5\" class=\"data row32 col5\" >nan</td>\n",
       "      <td id=\"T_a4c37_row32_col6\" class=\"data row32 col6\" >nan</td>\n",
       "      <td id=\"T_a4c37_row32_col7\" class=\"data row32 col7\" >nan</td>\n",
       "      <td id=\"T_a4c37_row32_col8\" class=\"data row32 col8\" >False</td>\n",
       "      <td id=\"T_a4c37_row32_col9\" class=\"data row32 col9\" >9970</td>\n",
       "    </tr>\n",
       "    <tr>\n",
       "      <th id=\"T_a4c37_level0_row33\" class=\"row_heading level0 row33\" >Junction</th>\n",
       "      <td id=\"T_a4c37_row33_col0\" class=\"data row33 col0\" >bool</td>\n",
       "      <td id=\"T_a4c37_row33_col1\" class=\"data row33 col1\" >0</td>\n",
       "      <td id=\"T_a4c37_row33_col2\" class=\"data row33 col2\" >0</td>\n",
       "      <td id=\"T_a4c37_row33_col3\" class=\"data row33 col3\" >2</td>\n",
       "      <td id=\"T_a4c37_row33_col4\" class=\"data row33 col4\" >nan</td>\n",
       "      <td id=\"T_a4c37_row33_col5\" class=\"data row33 col5\" >nan</td>\n",
       "      <td id=\"T_a4c37_row33_col6\" class=\"data row33 col6\" >nan</td>\n",
       "      <td id=\"T_a4c37_row33_col7\" class=\"data row33 col7\" >nan</td>\n",
       "      <td id=\"T_a4c37_row33_col8\" class=\"data row33 col8\" >False</td>\n",
       "      <td id=\"T_a4c37_row33_col9\" class=\"data row33 col9\" >9221</td>\n",
       "    </tr>\n",
       "    <tr>\n",
       "      <th id=\"T_a4c37_level0_row34\" class=\"row_heading level0 row34\" >No_Exit</th>\n",
       "      <td id=\"T_a4c37_row34_col0\" class=\"data row34 col0\" >bool</td>\n",
       "      <td id=\"T_a4c37_row34_col1\" class=\"data row34 col1\" >0</td>\n",
       "      <td id=\"T_a4c37_row34_col2\" class=\"data row34 col2\" >0</td>\n",
       "      <td id=\"T_a4c37_row34_col3\" class=\"data row34 col3\" >2</td>\n",
       "      <td id=\"T_a4c37_row34_col4\" class=\"data row34 col4\" >nan</td>\n",
       "      <td id=\"T_a4c37_row34_col5\" class=\"data row34 col5\" >nan</td>\n",
       "      <td id=\"T_a4c37_row34_col6\" class=\"data row34 col6\" >nan</td>\n",
       "      <td id=\"T_a4c37_row34_col7\" class=\"data row34 col7\" >nan</td>\n",
       "      <td id=\"T_a4c37_row34_col8\" class=\"data row34 col8\" >False</td>\n",
       "      <td id=\"T_a4c37_row34_col9\" class=\"data row34 col9\" >9979</td>\n",
       "    </tr>\n",
       "    <tr>\n",
       "      <th id=\"T_a4c37_level0_row35\" class=\"row_heading level0 row35\" >Railway</th>\n",
       "      <td id=\"T_a4c37_row35_col0\" class=\"data row35 col0\" >bool</td>\n",
       "      <td id=\"T_a4c37_row35_col1\" class=\"data row35 col1\" >0</td>\n",
       "      <td id=\"T_a4c37_row35_col2\" class=\"data row35 col2\" >0</td>\n",
       "      <td id=\"T_a4c37_row35_col3\" class=\"data row35 col3\" >2</td>\n",
       "      <td id=\"T_a4c37_row35_col4\" class=\"data row35 col4\" >nan</td>\n",
       "      <td id=\"T_a4c37_row35_col5\" class=\"data row35 col5\" >nan</td>\n",
       "      <td id=\"T_a4c37_row35_col6\" class=\"data row35 col6\" >nan</td>\n",
       "      <td id=\"T_a4c37_row35_col7\" class=\"data row35 col7\" >nan</td>\n",
       "      <td id=\"T_a4c37_row35_col8\" class=\"data row35 col8\" >False</td>\n",
       "      <td id=\"T_a4c37_row35_col9\" class=\"data row35 col9\" >9915</td>\n",
       "    </tr>\n",
       "    <tr>\n",
       "      <th id=\"T_a4c37_level0_row36\" class=\"row_heading level0 row36\" >Roundabout</th>\n",
       "      <td id=\"T_a4c37_row36_col0\" class=\"data row36 col0\" >bool</td>\n",
       "      <td id=\"T_a4c37_row36_col1\" class=\"data row36 col1\" >0</td>\n",
       "      <td id=\"T_a4c37_row36_col2\" class=\"data row36 col2\" >0</td>\n",
       "      <td id=\"T_a4c37_row36_col3\" class=\"data row36 col3\" >1</td>\n",
       "      <td id=\"T_a4c37_row36_col4\" class=\"data row36 col4\" >nan</td>\n",
       "      <td id=\"T_a4c37_row36_col5\" class=\"data row36 col5\" >nan</td>\n",
       "      <td id=\"T_a4c37_row36_col6\" class=\"data row36 col6\" >nan</td>\n",
       "      <td id=\"T_a4c37_row36_col7\" class=\"data row36 col7\" >nan</td>\n",
       "      <td id=\"T_a4c37_row36_col8\" class=\"data row36 col8\" >False</td>\n",
       "      <td id=\"T_a4c37_row36_col9\" class=\"data row36 col9\" >10000</td>\n",
       "    </tr>\n",
       "    <tr>\n",
       "      <th id=\"T_a4c37_level0_row37\" class=\"row_heading level0 row37\" >Station</th>\n",
       "      <td id=\"T_a4c37_row37_col0\" class=\"data row37 col0\" >bool</td>\n",
       "      <td id=\"T_a4c37_row37_col1\" class=\"data row37 col1\" >0</td>\n",
       "      <td id=\"T_a4c37_row37_col2\" class=\"data row37 col2\" >0</td>\n",
       "      <td id=\"T_a4c37_row37_col3\" class=\"data row37 col3\" >2</td>\n",
       "      <td id=\"T_a4c37_row37_col4\" class=\"data row37 col4\" >nan</td>\n",
       "      <td id=\"T_a4c37_row37_col5\" class=\"data row37 col5\" >nan</td>\n",
       "      <td id=\"T_a4c37_row37_col6\" class=\"data row37 col6\" >nan</td>\n",
       "      <td id=\"T_a4c37_row37_col7\" class=\"data row37 col7\" >nan</td>\n",
       "      <td id=\"T_a4c37_row37_col8\" class=\"data row37 col8\" >False</td>\n",
       "      <td id=\"T_a4c37_row37_col9\" class=\"data row37 col9\" >9714</td>\n",
       "    </tr>\n",
       "    <tr>\n",
       "      <th id=\"T_a4c37_level0_row38\" class=\"row_heading level0 row38\" >Stop</th>\n",
       "      <td id=\"T_a4c37_row38_col0\" class=\"data row38 col0\" >bool</td>\n",
       "      <td id=\"T_a4c37_row38_col1\" class=\"data row38 col1\" >0</td>\n",
       "      <td id=\"T_a4c37_row38_col2\" class=\"data row38 col2\" >0</td>\n",
       "      <td id=\"T_a4c37_row38_col3\" class=\"data row38 col3\" >2</td>\n",
       "      <td id=\"T_a4c37_row38_col4\" class=\"data row38 col4\" >nan</td>\n",
       "      <td id=\"T_a4c37_row38_col5\" class=\"data row38 col5\" >nan</td>\n",
       "      <td id=\"T_a4c37_row38_col6\" class=\"data row38 col6\" >nan</td>\n",
       "      <td id=\"T_a4c37_row38_col7\" class=\"data row38 col7\" >nan</td>\n",
       "      <td id=\"T_a4c37_row38_col8\" class=\"data row38 col8\" >False</td>\n",
       "      <td id=\"T_a4c37_row38_col9\" class=\"data row38 col9\" >9714</td>\n",
       "    </tr>\n",
       "    <tr>\n",
       "      <th id=\"T_a4c37_level0_row39\" class=\"row_heading level0 row39\" >Traffic_Calming</th>\n",
       "      <td id=\"T_a4c37_row39_col0\" class=\"data row39 col0\" >bool</td>\n",
       "      <td id=\"T_a4c37_row39_col1\" class=\"data row39 col1\" >0</td>\n",
       "      <td id=\"T_a4c37_row39_col2\" class=\"data row39 col2\" >0</td>\n",
       "      <td id=\"T_a4c37_row39_col3\" class=\"data row39 col3\" >2</td>\n",
       "      <td id=\"T_a4c37_row39_col4\" class=\"data row39 col4\" >nan</td>\n",
       "      <td id=\"T_a4c37_row39_col5\" class=\"data row39 col5\" >nan</td>\n",
       "      <td id=\"T_a4c37_row39_col6\" class=\"data row39 col6\" >nan</td>\n",
       "      <td id=\"T_a4c37_row39_col7\" class=\"data row39 col7\" >nan</td>\n",
       "      <td id=\"T_a4c37_row39_col8\" class=\"data row39 col8\" >False</td>\n",
       "      <td id=\"T_a4c37_row39_col9\" class=\"data row39 col9\" >9991</td>\n",
       "    </tr>\n",
       "    <tr>\n",
       "      <th id=\"T_a4c37_level0_row40\" class=\"row_heading level0 row40\" >Traffic_Signal</th>\n",
       "      <td id=\"T_a4c37_row40_col0\" class=\"data row40 col0\" >bool</td>\n",
       "      <td id=\"T_a4c37_row40_col1\" class=\"data row40 col1\" >0</td>\n",
       "      <td id=\"T_a4c37_row40_col2\" class=\"data row40 col2\" >0</td>\n",
       "      <td id=\"T_a4c37_row40_col3\" class=\"data row40 col3\" >2</td>\n",
       "      <td id=\"T_a4c37_row40_col4\" class=\"data row40 col4\" >nan</td>\n",
       "      <td id=\"T_a4c37_row40_col5\" class=\"data row40 col5\" >nan</td>\n",
       "      <td id=\"T_a4c37_row40_col6\" class=\"data row40 col6\" >nan</td>\n",
       "      <td id=\"T_a4c37_row40_col7\" class=\"data row40 col7\" >nan</td>\n",
       "      <td id=\"T_a4c37_row40_col8\" class=\"data row40 col8\" >False</td>\n",
       "      <td id=\"T_a4c37_row40_col9\" class=\"data row40 col9\" >9094</td>\n",
       "    </tr>\n",
       "    <tr>\n",
       "      <th id=\"T_a4c37_level0_row41\" class=\"row_heading level0 row41\" >Turning_Loop</th>\n",
       "      <td id=\"T_a4c37_row41_col0\" class=\"data row41 col0\" >bool</td>\n",
       "      <td id=\"T_a4c37_row41_col1\" class=\"data row41 col1\" >0</td>\n",
       "      <td id=\"T_a4c37_row41_col2\" class=\"data row41 col2\" >0</td>\n",
       "      <td id=\"T_a4c37_row41_col3\" class=\"data row41 col3\" >1</td>\n",
       "      <td id=\"T_a4c37_row41_col4\" class=\"data row41 col4\" >nan</td>\n",
       "      <td id=\"T_a4c37_row41_col5\" class=\"data row41 col5\" >nan</td>\n",
       "      <td id=\"T_a4c37_row41_col6\" class=\"data row41 col6\" >nan</td>\n",
       "      <td id=\"T_a4c37_row41_col7\" class=\"data row41 col7\" >nan</td>\n",
       "      <td id=\"T_a4c37_row41_col8\" class=\"data row41 col8\" >False</td>\n",
       "      <td id=\"T_a4c37_row41_col9\" class=\"data row41 col9\" >10000</td>\n",
       "    </tr>\n",
       "    <tr>\n",
       "      <th id=\"T_a4c37_level0_row42\" class=\"row_heading level0 row42\" >Sunrise_Sunset</th>\n",
       "      <td id=\"T_a4c37_row42_col0\" class=\"data row42 col0\" >object</td>\n",
       "      <td id=\"T_a4c37_row42_col1\" class=\"data row42 col1\" >0</td>\n",
       "      <td id=\"T_a4c37_row42_col2\" class=\"data row42 col2\" >0</td>\n",
       "      <td id=\"T_a4c37_row42_col3\" class=\"data row42 col3\" >2</td>\n",
       "      <td id=\"T_a4c37_row42_col4\" class=\"data row42 col4\" >nan</td>\n",
       "      <td id=\"T_a4c37_row42_col5\" class=\"data row42 col5\" >nan</td>\n",
       "      <td id=\"T_a4c37_row42_col6\" class=\"data row42 col6\" >nan</td>\n",
       "      <td id=\"T_a4c37_row42_col7\" class=\"data row42 col7\" >nan</td>\n",
       "      <td id=\"T_a4c37_row42_col8\" class=\"data row42 col8\" >Day</td>\n",
       "      <td id=\"T_a4c37_row42_col9\" class=\"data row42 col9\" >6478</td>\n",
       "    </tr>\n",
       "    <tr>\n",
       "      <th id=\"T_a4c37_level0_row43\" class=\"row_heading level0 row43\" >Civil_Twilight</th>\n",
       "      <td id=\"T_a4c37_row43_col0\" class=\"data row43 col0\" >object</td>\n",
       "      <td id=\"T_a4c37_row43_col1\" class=\"data row43 col1\" >0</td>\n",
       "      <td id=\"T_a4c37_row43_col2\" class=\"data row43 col2\" >0</td>\n",
       "      <td id=\"T_a4c37_row43_col3\" class=\"data row43 col3\" >2</td>\n",
       "      <td id=\"T_a4c37_row43_col4\" class=\"data row43 col4\" >nan</td>\n",
       "      <td id=\"T_a4c37_row43_col5\" class=\"data row43 col5\" >nan</td>\n",
       "      <td id=\"T_a4c37_row43_col6\" class=\"data row43 col6\" >nan</td>\n",
       "      <td id=\"T_a4c37_row43_col7\" class=\"data row43 col7\" >nan</td>\n",
       "      <td id=\"T_a4c37_row43_col8\" class=\"data row43 col8\" >Day</td>\n",
       "      <td id=\"T_a4c37_row43_col9\" class=\"data row43 col9\" >6861</td>\n",
       "    </tr>\n",
       "    <tr>\n",
       "      <th id=\"T_a4c37_level0_row44\" class=\"row_heading level0 row44\" >Nautical_Twilight</th>\n",
       "      <td id=\"T_a4c37_row44_col0\" class=\"data row44 col0\" >object</td>\n",
       "      <td id=\"T_a4c37_row44_col1\" class=\"data row44 col1\" >0</td>\n",
       "      <td id=\"T_a4c37_row44_col2\" class=\"data row44 col2\" >0</td>\n",
       "      <td id=\"T_a4c37_row44_col3\" class=\"data row44 col3\" >2</td>\n",
       "      <td id=\"T_a4c37_row44_col4\" class=\"data row44 col4\" >nan</td>\n",
       "      <td id=\"T_a4c37_row44_col5\" class=\"data row44 col5\" >nan</td>\n",
       "      <td id=\"T_a4c37_row44_col6\" class=\"data row44 col6\" >nan</td>\n",
       "      <td id=\"T_a4c37_row44_col7\" class=\"data row44 col7\" >nan</td>\n",
       "      <td id=\"T_a4c37_row44_col8\" class=\"data row44 col8\" >Day</td>\n",
       "      <td id=\"T_a4c37_row44_col9\" class=\"data row44 col9\" >7341</td>\n",
       "    </tr>\n",
       "    <tr>\n",
       "      <th id=\"T_a4c37_level0_row45\" class=\"row_heading level0 row45\" >Astronomical_Twilight</th>\n",
       "      <td id=\"T_a4c37_row45_col0\" class=\"data row45 col0\" >object</td>\n",
       "      <td id=\"T_a4c37_row45_col1\" class=\"data row45 col1\" >0</td>\n",
       "      <td id=\"T_a4c37_row45_col2\" class=\"data row45 col2\" >0</td>\n",
       "      <td id=\"T_a4c37_row45_col3\" class=\"data row45 col3\" >2</td>\n",
       "      <td id=\"T_a4c37_row45_col4\" class=\"data row45 col4\" >nan</td>\n",
       "      <td id=\"T_a4c37_row45_col5\" class=\"data row45 col5\" >nan</td>\n",
       "      <td id=\"T_a4c37_row45_col6\" class=\"data row45 col6\" >nan</td>\n",
       "      <td id=\"T_a4c37_row45_col7\" class=\"data row45 col7\" >nan</td>\n",
       "      <td id=\"T_a4c37_row45_col8\" class=\"data row45 col8\" >Day</td>\n",
       "      <td id=\"T_a4c37_row45_col9\" class=\"data row45 col9\" >7726</td>\n",
       "    </tr>\n",
       "  </tbody>\n",
       "</table>\n"
      ],
      "text/plain": [
       "<pandas.io.formats.style.Styler at 0x1d9e1a78b00>"
      ]
     },
     "execution_count": 8,
     "metadata": {},
     "output_type": "execute_result"
    }
   ],
   "source": [
    "# Summary of the dataset\n",
    "\n",
    "def summary(df):\n",
    "    summ = pd.DataFrame(df.dtypes, columns=['data type'])\n",
    "    summ['#missing'] = df.isnull().sum().values\n",
    "    summ['Duplicate'] = df.duplicated().sum()\n",
    "    summ['#unique'] = df.nunique().values\n",
    "    desc = pd.DataFrame(df.describe(include='all').transpose())\n",
    "    summ['min'] = desc['min'].values\n",
    "    summ['max'] = desc['max'].values\n",
    "    summ['avg'] = desc['mean'].values\n",
    "    summ['std dev'] = desc['std'].values\n",
    "    summ['top value'] = desc['top'].values\n",
    "    summ['Freq'] = desc['freq'].values\n",
    "\n",
    "    return summ\n",
    "\n",
    "summary(df).style.background_gradient()"
   ]
  },
  {
   "cell_type": "markdown",
   "id": "b699b65c",
   "metadata": {},
   "source": [
    "## D. Accidents at Junctions, Stops, and Traffic Signals\n",
    "### 7.How many accidents occurred near: \n",
    "#### i. Junctions\n",
    "#### ii. Stops\n",
    "#### iii. Traffic Signals\n"
   ]
  },
  {
   "cell_type": "code",
   "execution_count": 47,
   "id": "81c8399c",
   "metadata": {},
   "outputs": [
    {
     "data": {
      "application/vnd.plotly.v1+json": {
       "config": {
        "plotlyServerURL": "https://plot.ly"
       },
       "data": [
        {
         "alignmentgroup": "True",
         "hovertemplate": "Junction=%{x}<br>Count=%{text}<extra></extra>",
         "legendgroup": "False",
         "marker": {
          "color": "#66c2a5",
          "pattern": {
           "shape": ""
          }
         },
         "name": "False",
         "offsetgroup": "False",
         "orientation": "v",
         "showlegend": true,
         "text": [
          9714
         ],
         "textposition": "auto",
         "type": "bar",
         "x": [
          false
         ],
         "xaxis": "x",
         "y": [
          9714
         ],
         "yaxis": "y"
        },
        {
         "alignmentgroup": "True",
         "hovertemplate": "Junction=%{x}<br>Count=%{text}<extra></extra>",
         "legendgroup": "True",
         "marker": {
          "color": "#fc8d62",
          "pattern": {
           "shape": ""
          }
         },
         "name": "True",
         "offsetgroup": "True",
         "orientation": "v",
         "showlegend": true,
         "text": [
          286
         ],
         "textposition": "auto",
         "type": "bar",
         "x": [
          true
         ],
         "xaxis": "x",
         "y": [
          286
         ],
         "yaxis": "y"
        }
       ],
       "layout": {
        "barmode": "relative",
        "legend": {
         "title": {
          "text": "Junction"
         },
         "tracegroupgap": 0
        },
        "template": {
         "data": {
          "bar": [
           {
            "error_x": {
             "color": "#2a3f5f"
            },
            "error_y": {
             "color": "#2a3f5f"
            },
            "marker": {
             "line": {
              "color": "#E5ECF6",
              "width": 0.5
             },
             "pattern": {
              "fillmode": "overlay",
              "size": 10,
              "solidity": 0.2
             }
            },
            "type": "bar"
           }
          ],
          "barpolar": [
           {
            "marker": {
             "line": {
              "color": "#E5ECF6",
              "width": 0.5
             },
             "pattern": {
              "fillmode": "overlay",
              "size": 10,
              "solidity": 0.2
             }
            },
            "type": "barpolar"
           }
          ],
          "carpet": [
           {
            "aaxis": {
             "endlinecolor": "#2a3f5f",
             "gridcolor": "white",
             "linecolor": "white",
             "minorgridcolor": "white",
             "startlinecolor": "#2a3f5f"
            },
            "baxis": {
             "endlinecolor": "#2a3f5f",
             "gridcolor": "white",
             "linecolor": "white",
             "minorgridcolor": "white",
             "startlinecolor": "#2a3f5f"
            },
            "type": "carpet"
           }
          ],
          "choropleth": [
           {
            "colorbar": {
             "outlinewidth": 0,
             "ticks": ""
            },
            "type": "choropleth"
           }
          ],
          "contour": [
           {
            "colorbar": {
             "outlinewidth": 0,
             "ticks": ""
            },
            "colorscale": [
             [
              0,
              "#0d0887"
             ],
             [
              0.1111111111111111,
              "#46039f"
             ],
             [
              0.2222222222222222,
              "#7201a8"
             ],
             [
              0.3333333333333333,
              "#9c179e"
             ],
             [
              0.4444444444444444,
              "#bd3786"
             ],
             [
              0.5555555555555556,
              "#d8576b"
             ],
             [
              0.6666666666666666,
              "#ed7953"
             ],
             [
              0.7777777777777778,
              "#fb9f3a"
             ],
             [
              0.8888888888888888,
              "#fdca26"
             ],
             [
              1,
              "#f0f921"
             ]
            ],
            "type": "contour"
           }
          ],
          "contourcarpet": [
           {
            "colorbar": {
             "outlinewidth": 0,
             "ticks": ""
            },
            "type": "contourcarpet"
           }
          ],
          "heatmap": [
           {
            "colorbar": {
             "outlinewidth": 0,
             "ticks": ""
            },
            "colorscale": [
             [
              0,
              "#0d0887"
             ],
             [
              0.1111111111111111,
              "#46039f"
             ],
             [
              0.2222222222222222,
              "#7201a8"
             ],
             [
              0.3333333333333333,
              "#9c179e"
             ],
             [
              0.4444444444444444,
              "#bd3786"
             ],
             [
              0.5555555555555556,
              "#d8576b"
             ],
             [
              0.6666666666666666,
              "#ed7953"
             ],
             [
              0.7777777777777778,
              "#fb9f3a"
             ],
             [
              0.8888888888888888,
              "#fdca26"
             ],
             [
              1,
              "#f0f921"
             ]
            ],
            "type": "heatmap"
           }
          ],
          "heatmapgl": [
           {
            "colorbar": {
             "outlinewidth": 0,
             "ticks": ""
            },
            "colorscale": [
             [
              0,
              "#0d0887"
             ],
             [
              0.1111111111111111,
              "#46039f"
             ],
             [
              0.2222222222222222,
              "#7201a8"
             ],
             [
              0.3333333333333333,
              "#9c179e"
             ],
             [
              0.4444444444444444,
              "#bd3786"
             ],
             [
              0.5555555555555556,
              "#d8576b"
             ],
             [
              0.6666666666666666,
              "#ed7953"
             ],
             [
              0.7777777777777778,
              "#fb9f3a"
             ],
             [
              0.8888888888888888,
              "#fdca26"
             ],
             [
              1,
              "#f0f921"
             ]
            ],
            "type": "heatmapgl"
           }
          ],
          "histogram": [
           {
            "marker": {
             "pattern": {
              "fillmode": "overlay",
              "size": 10,
              "solidity": 0.2
             }
            },
            "type": "histogram"
           }
          ],
          "histogram2d": [
           {
            "colorbar": {
             "outlinewidth": 0,
             "ticks": ""
            },
            "colorscale": [
             [
              0,
              "#0d0887"
             ],
             [
              0.1111111111111111,
              "#46039f"
             ],
             [
              0.2222222222222222,
              "#7201a8"
             ],
             [
              0.3333333333333333,
              "#9c179e"
             ],
             [
              0.4444444444444444,
              "#bd3786"
             ],
             [
              0.5555555555555556,
              "#d8576b"
             ],
             [
              0.6666666666666666,
              "#ed7953"
             ],
             [
              0.7777777777777778,
              "#fb9f3a"
             ],
             [
              0.8888888888888888,
              "#fdca26"
             ],
             [
              1,
              "#f0f921"
             ]
            ],
            "type": "histogram2d"
           }
          ],
          "histogram2dcontour": [
           {
            "colorbar": {
             "outlinewidth": 0,
             "ticks": ""
            },
            "colorscale": [
             [
              0,
              "#0d0887"
             ],
             [
              0.1111111111111111,
              "#46039f"
             ],
             [
              0.2222222222222222,
              "#7201a8"
             ],
             [
              0.3333333333333333,
              "#9c179e"
             ],
             [
              0.4444444444444444,
              "#bd3786"
             ],
             [
              0.5555555555555556,
              "#d8576b"
             ],
             [
              0.6666666666666666,
              "#ed7953"
             ],
             [
              0.7777777777777778,
              "#fb9f3a"
             ],
             [
              0.8888888888888888,
              "#fdca26"
             ],
             [
              1,
              "#f0f921"
             ]
            ],
            "type": "histogram2dcontour"
           }
          ],
          "mesh3d": [
           {
            "colorbar": {
             "outlinewidth": 0,
             "ticks": ""
            },
            "type": "mesh3d"
           }
          ],
          "parcoords": [
           {
            "line": {
             "colorbar": {
              "outlinewidth": 0,
              "ticks": ""
             }
            },
            "type": "parcoords"
           }
          ],
          "pie": [
           {
            "automargin": true,
            "type": "pie"
           }
          ],
          "scatter": [
           {
            "fillpattern": {
             "fillmode": "overlay",
             "size": 10,
             "solidity": 0.2
            },
            "type": "scatter"
           }
          ],
          "scatter3d": [
           {
            "line": {
             "colorbar": {
              "outlinewidth": 0,
              "ticks": ""
             }
            },
            "marker": {
             "colorbar": {
              "outlinewidth": 0,
              "ticks": ""
             }
            },
            "type": "scatter3d"
           }
          ],
          "scattercarpet": [
           {
            "marker": {
             "colorbar": {
              "outlinewidth": 0,
              "ticks": ""
             }
            },
            "type": "scattercarpet"
           }
          ],
          "scattergeo": [
           {
            "marker": {
             "colorbar": {
              "outlinewidth": 0,
              "ticks": ""
             }
            },
            "type": "scattergeo"
           }
          ],
          "scattergl": [
           {
            "marker": {
             "colorbar": {
              "outlinewidth": 0,
              "ticks": ""
             }
            },
            "type": "scattergl"
           }
          ],
          "scattermapbox": [
           {
            "marker": {
             "colorbar": {
              "outlinewidth": 0,
              "ticks": ""
             }
            },
            "type": "scattermapbox"
           }
          ],
          "scatterpolar": [
           {
            "marker": {
             "colorbar": {
              "outlinewidth": 0,
              "ticks": ""
             }
            },
            "type": "scatterpolar"
           }
          ],
          "scatterpolargl": [
           {
            "marker": {
             "colorbar": {
              "outlinewidth": 0,
              "ticks": ""
             }
            },
            "type": "scatterpolargl"
           }
          ],
          "scatterternary": [
           {
            "marker": {
             "colorbar": {
              "outlinewidth": 0,
              "ticks": ""
             }
            },
            "type": "scatterternary"
           }
          ],
          "surface": [
           {
            "colorbar": {
             "outlinewidth": 0,
             "ticks": ""
            },
            "colorscale": [
             [
              0,
              "#0d0887"
             ],
             [
              0.1111111111111111,
              "#46039f"
             ],
             [
              0.2222222222222222,
              "#7201a8"
             ],
             [
              0.3333333333333333,
              "#9c179e"
             ],
             [
              0.4444444444444444,
              "#bd3786"
             ],
             [
              0.5555555555555556,
              "#d8576b"
             ],
             [
              0.6666666666666666,
              "#ed7953"
             ],
             [
              0.7777777777777778,
              "#fb9f3a"
             ],
             [
              0.8888888888888888,
              "#fdca26"
             ],
             [
              1,
              "#f0f921"
             ]
            ],
            "type": "surface"
           }
          ],
          "table": [
           {
            "cells": {
             "fill": {
              "color": "#EBF0F8"
             },
             "line": {
              "color": "white"
             }
            },
            "header": {
             "fill": {
              "color": "#C8D4E3"
             },
             "line": {
              "color": "white"
             }
            },
            "type": "table"
           }
          ]
         },
         "layout": {
          "annotationdefaults": {
           "arrowcolor": "#2a3f5f",
           "arrowhead": 0,
           "arrowwidth": 1
          },
          "autotypenumbers": "strict",
          "coloraxis": {
           "colorbar": {
            "outlinewidth": 0,
            "ticks": ""
           }
          },
          "colorscale": {
           "diverging": [
            [
             0,
             "#8e0152"
            ],
            [
             0.1,
             "#c51b7d"
            ],
            [
             0.2,
             "#de77ae"
            ],
            [
             0.3,
             "#f1b6da"
            ],
            [
             0.4,
             "#fde0ef"
            ],
            [
             0.5,
             "#f7f7f7"
            ],
            [
             0.6,
             "#e6f5d0"
            ],
            [
             0.7,
             "#b8e186"
            ],
            [
             0.8,
             "#7fbc41"
            ],
            [
             0.9,
             "#4d9221"
            ],
            [
             1,
             "#276419"
            ]
           ],
           "sequential": [
            [
             0,
             "#0d0887"
            ],
            [
             0.1111111111111111,
             "#46039f"
            ],
            [
             0.2222222222222222,
             "#7201a8"
            ],
            [
             0.3333333333333333,
             "#9c179e"
            ],
            [
             0.4444444444444444,
             "#bd3786"
            ],
            [
             0.5555555555555556,
             "#d8576b"
            ],
            [
             0.6666666666666666,
             "#ed7953"
            ],
            [
             0.7777777777777778,
             "#fb9f3a"
            ],
            [
             0.8888888888888888,
             "#fdca26"
            ],
            [
             1,
             "#f0f921"
            ]
           ],
           "sequentialminus": [
            [
             0,
             "#0d0887"
            ],
            [
             0.1111111111111111,
             "#46039f"
            ],
            [
             0.2222222222222222,
             "#7201a8"
            ],
            [
             0.3333333333333333,
             "#9c179e"
            ],
            [
             0.4444444444444444,
             "#bd3786"
            ],
            [
             0.5555555555555556,
             "#d8576b"
            ],
            [
             0.6666666666666666,
             "#ed7953"
            ],
            [
             0.7777777777777778,
             "#fb9f3a"
            ],
            [
             0.8888888888888888,
             "#fdca26"
            ],
            [
             1,
             "#f0f921"
            ]
           ]
          },
          "colorway": [
           "#636efa",
           "#EF553B",
           "#00cc96",
           "#ab63fa",
           "#FFA15A",
           "#19d3f3",
           "#FF6692",
           "#B6E880",
           "#FF97FF",
           "#FECB52"
          ],
          "font": {
           "color": "#2a3f5f"
          },
          "geo": {
           "bgcolor": "white",
           "lakecolor": "white",
           "landcolor": "#E5ECF6",
           "showlakes": true,
           "showland": true,
           "subunitcolor": "white"
          },
          "hoverlabel": {
           "align": "left"
          },
          "hovermode": "closest",
          "mapbox": {
           "style": "light"
          },
          "paper_bgcolor": "white",
          "plot_bgcolor": "#E5ECF6",
          "polar": {
           "angularaxis": {
            "gridcolor": "white",
            "linecolor": "white",
            "ticks": ""
           },
           "bgcolor": "#E5ECF6",
           "radialaxis": {
            "gridcolor": "white",
            "linecolor": "white",
            "ticks": ""
           }
          },
          "scene": {
           "xaxis": {
            "backgroundcolor": "#E5ECF6",
            "gridcolor": "white",
            "gridwidth": 2,
            "linecolor": "white",
            "showbackground": true,
            "ticks": "",
            "zerolinecolor": "white"
           },
           "yaxis": {
            "backgroundcolor": "#E5ECF6",
            "gridcolor": "white",
            "gridwidth": 2,
            "linecolor": "white",
            "showbackground": true,
            "ticks": "",
            "zerolinecolor": "white"
           },
           "zaxis": {
            "backgroundcolor": "#E5ECF6",
            "gridcolor": "white",
            "gridwidth": 2,
            "linecolor": "white",
            "showbackground": true,
            "ticks": "",
            "zerolinecolor": "white"
           }
          },
          "shapedefaults": {
           "line": {
            "color": "#2a3f5f"
           }
          },
          "ternary": {
           "aaxis": {
            "gridcolor": "white",
            "linecolor": "white",
            "ticks": ""
           },
           "baxis": {
            "gridcolor": "white",
            "linecolor": "white",
            "ticks": ""
           },
           "bgcolor": "#E5ECF6",
           "caxis": {
            "gridcolor": "white",
            "linecolor": "white",
            "ticks": ""
           }
          },
          "title": {
           "x": 0.05
          },
          "xaxis": {
           "automargin": true,
           "gridcolor": "white",
           "linecolor": "white",
           "ticks": "",
           "title": {
            "standoff": 15
           },
           "zerolinecolor": "white",
           "zerolinewidth": 2
          },
          "yaxis": {
           "automargin": true,
           "gridcolor": "white",
           "linecolor": "white",
           "ticks": "",
           "title": {
            "standoff": 15
           },
           "zerolinecolor": "white",
           "zerolinewidth": 2
          }
         }
        },
        "title": {
         "text": "Number of Accidents near Junctions"
        },
        "xaxis": {
         "anchor": "y",
         "categoryarray": [
          false,
          true
         ],
         "categoryorder": "array",
         "domain": [
          0,
          1
         ],
         "title": {
          "text": "Junction"
         }
        },
        "yaxis": {
         "anchor": "x",
         "domain": [
          0,
          1
         ],
         "title": {
          "text": "Count"
         }
        }
       }
      },
      "text/html": [
       "<div>                            <div id=\"3d1559d6-48d8-411e-be09-f3679b9b6854\" class=\"plotly-graph-div\" style=\"height:525px; width:100%;\"></div>            <script type=\"text/javascript\">                require([\"plotly\"], function(Plotly) {                    window.PLOTLYENV=window.PLOTLYENV || {};                                    if (document.getElementById(\"3d1559d6-48d8-411e-be09-f3679b9b6854\")) {                    Plotly.newPlot(                        \"3d1559d6-48d8-411e-be09-f3679b9b6854\",                        [{\"alignmentgroup\":\"True\",\"hovertemplate\":\"Junction=%{x}\\u003cbr\\u003eCount=%{text}\\u003cextra\\u003e\\u003c\\u002fextra\\u003e\",\"legendgroup\":\"False\",\"marker\":{\"color\":\"#66c2a5\",\"pattern\":{\"shape\":\"\"}},\"name\":\"False\",\"offsetgroup\":\"False\",\"orientation\":\"v\",\"showlegend\":true,\"text\":[9714.0],\"textposition\":\"auto\",\"x\":[false],\"xaxis\":\"x\",\"y\":[9714],\"yaxis\":\"y\",\"type\":\"bar\"},{\"alignmentgroup\":\"True\",\"hovertemplate\":\"Junction=%{x}\\u003cbr\\u003eCount=%{text}\\u003cextra\\u003e\\u003c\\u002fextra\\u003e\",\"legendgroup\":\"True\",\"marker\":{\"color\":\"#fc8d62\",\"pattern\":{\"shape\":\"\"}},\"name\":\"True\",\"offsetgroup\":\"True\",\"orientation\":\"v\",\"showlegend\":true,\"text\":[286.0],\"textposition\":\"auto\",\"x\":[true],\"xaxis\":\"x\",\"y\":[286],\"yaxis\":\"y\",\"type\":\"bar\"}],                        {\"template\":{\"data\":{\"histogram2dcontour\":[{\"type\":\"histogram2dcontour\",\"colorbar\":{\"outlinewidth\":0,\"ticks\":\"\"},\"colorscale\":[[0.0,\"#0d0887\"],[0.1111111111111111,\"#46039f\"],[0.2222222222222222,\"#7201a8\"],[0.3333333333333333,\"#9c179e\"],[0.4444444444444444,\"#bd3786\"],[0.5555555555555556,\"#d8576b\"],[0.6666666666666666,\"#ed7953\"],[0.7777777777777778,\"#fb9f3a\"],[0.8888888888888888,\"#fdca26\"],[1.0,\"#f0f921\"]]}],\"choropleth\":[{\"type\":\"choropleth\",\"colorbar\":{\"outlinewidth\":0,\"ticks\":\"\"}}],\"histogram2d\":[{\"type\":\"histogram2d\",\"colorbar\":{\"outlinewidth\":0,\"ticks\":\"\"},\"colorscale\":[[0.0,\"#0d0887\"],[0.1111111111111111,\"#46039f\"],[0.2222222222222222,\"#7201a8\"],[0.3333333333333333,\"#9c179e\"],[0.4444444444444444,\"#bd3786\"],[0.5555555555555556,\"#d8576b\"],[0.6666666666666666,\"#ed7953\"],[0.7777777777777778,\"#fb9f3a\"],[0.8888888888888888,\"#fdca26\"],[1.0,\"#f0f921\"]]}],\"heatmap\":[{\"type\":\"heatmap\",\"colorbar\":{\"outlinewidth\":0,\"ticks\":\"\"},\"colorscale\":[[0.0,\"#0d0887\"],[0.1111111111111111,\"#46039f\"],[0.2222222222222222,\"#7201a8\"],[0.3333333333333333,\"#9c179e\"],[0.4444444444444444,\"#bd3786\"],[0.5555555555555556,\"#d8576b\"],[0.6666666666666666,\"#ed7953\"],[0.7777777777777778,\"#fb9f3a\"],[0.8888888888888888,\"#fdca26\"],[1.0,\"#f0f921\"]]}],\"heatmapgl\":[{\"type\":\"heatmapgl\",\"colorbar\":{\"outlinewidth\":0,\"ticks\":\"\"},\"colorscale\":[[0.0,\"#0d0887\"],[0.1111111111111111,\"#46039f\"],[0.2222222222222222,\"#7201a8\"],[0.3333333333333333,\"#9c179e\"],[0.4444444444444444,\"#bd3786\"],[0.5555555555555556,\"#d8576b\"],[0.6666666666666666,\"#ed7953\"],[0.7777777777777778,\"#fb9f3a\"],[0.8888888888888888,\"#fdca26\"],[1.0,\"#f0f921\"]]}],\"contourcarpet\":[{\"type\":\"contourcarpet\",\"colorbar\":{\"outlinewidth\":0,\"ticks\":\"\"}}],\"contour\":[{\"type\":\"contour\",\"colorbar\":{\"outlinewidth\":0,\"ticks\":\"\"},\"colorscale\":[[0.0,\"#0d0887\"],[0.1111111111111111,\"#46039f\"],[0.2222222222222222,\"#7201a8\"],[0.3333333333333333,\"#9c179e\"],[0.4444444444444444,\"#bd3786\"],[0.5555555555555556,\"#d8576b\"],[0.6666666666666666,\"#ed7953\"],[0.7777777777777778,\"#fb9f3a\"],[0.8888888888888888,\"#fdca26\"],[1.0,\"#f0f921\"]]}],\"surface\":[{\"type\":\"surface\",\"colorbar\":{\"outlinewidth\":0,\"ticks\":\"\"},\"colorscale\":[[0.0,\"#0d0887\"],[0.1111111111111111,\"#46039f\"],[0.2222222222222222,\"#7201a8\"],[0.3333333333333333,\"#9c179e\"],[0.4444444444444444,\"#bd3786\"],[0.5555555555555556,\"#d8576b\"],[0.6666666666666666,\"#ed7953\"],[0.7777777777777778,\"#fb9f3a\"],[0.8888888888888888,\"#fdca26\"],[1.0,\"#f0f921\"]]}],\"mesh3d\":[{\"type\":\"mesh3d\",\"colorbar\":{\"outlinewidth\":0,\"ticks\":\"\"}}],\"scatter\":[{\"fillpattern\":{\"fillmode\":\"overlay\",\"size\":10,\"solidity\":0.2},\"type\":\"scatter\"}],\"parcoords\":[{\"type\":\"parcoords\",\"line\":{\"colorbar\":{\"outlinewidth\":0,\"ticks\":\"\"}}}],\"scatterpolargl\":[{\"type\":\"scatterpolargl\",\"marker\":{\"colorbar\":{\"outlinewidth\":0,\"ticks\":\"\"}}}],\"bar\":[{\"error_x\":{\"color\":\"#2a3f5f\"},\"error_y\":{\"color\":\"#2a3f5f\"},\"marker\":{\"line\":{\"color\":\"#E5ECF6\",\"width\":0.5},\"pattern\":{\"fillmode\":\"overlay\",\"size\":10,\"solidity\":0.2}},\"type\":\"bar\"}],\"scattergeo\":[{\"type\":\"scattergeo\",\"marker\":{\"colorbar\":{\"outlinewidth\":0,\"ticks\":\"\"}}}],\"scatterpolar\":[{\"type\":\"scatterpolar\",\"marker\":{\"colorbar\":{\"outlinewidth\":0,\"ticks\":\"\"}}}],\"histogram\":[{\"marker\":{\"pattern\":{\"fillmode\":\"overlay\",\"size\":10,\"solidity\":0.2}},\"type\":\"histogram\"}],\"scattergl\":[{\"type\":\"scattergl\",\"marker\":{\"colorbar\":{\"outlinewidth\":0,\"ticks\":\"\"}}}],\"scatter3d\":[{\"type\":\"scatter3d\",\"line\":{\"colorbar\":{\"outlinewidth\":0,\"ticks\":\"\"}},\"marker\":{\"colorbar\":{\"outlinewidth\":0,\"ticks\":\"\"}}}],\"scattermapbox\":[{\"type\":\"scattermapbox\",\"marker\":{\"colorbar\":{\"outlinewidth\":0,\"ticks\":\"\"}}}],\"scatterternary\":[{\"type\":\"scatterternary\",\"marker\":{\"colorbar\":{\"outlinewidth\":0,\"ticks\":\"\"}}}],\"scattercarpet\":[{\"type\":\"scattercarpet\",\"marker\":{\"colorbar\":{\"outlinewidth\":0,\"ticks\":\"\"}}}],\"carpet\":[{\"aaxis\":{\"endlinecolor\":\"#2a3f5f\",\"gridcolor\":\"white\",\"linecolor\":\"white\",\"minorgridcolor\":\"white\",\"startlinecolor\":\"#2a3f5f\"},\"baxis\":{\"endlinecolor\":\"#2a3f5f\",\"gridcolor\":\"white\",\"linecolor\":\"white\",\"minorgridcolor\":\"white\",\"startlinecolor\":\"#2a3f5f\"},\"type\":\"carpet\"}],\"table\":[{\"cells\":{\"fill\":{\"color\":\"#EBF0F8\"},\"line\":{\"color\":\"white\"}},\"header\":{\"fill\":{\"color\":\"#C8D4E3\"},\"line\":{\"color\":\"white\"}},\"type\":\"table\"}],\"barpolar\":[{\"marker\":{\"line\":{\"color\":\"#E5ECF6\",\"width\":0.5},\"pattern\":{\"fillmode\":\"overlay\",\"size\":10,\"solidity\":0.2}},\"type\":\"barpolar\"}],\"pie\":[{\"automargin\":true,\"type\":\"pie\"}]},\"layout\":{\"autotypenumbers\":\"strict\",\"colorway\":[\"#636efa\",\"#EF553B\",\"#00cc96\",\"#ab63fa\",\"#FFA15A\",\"#19d3f3\",\"#FF6692\",\"#B6E880\",\"#FF97FF\",\"#FECB52\"],\"font\":{\"color\":\"#2a3f5f\"},\"hovermode\":\"closest\",\"hoverlabel\":{\"align\":\"left\"},\"paper_bgcolor\":\"white\",\"plot_bgcolor\":\"#E5ECF6\",\"polar\":{\"bgcolor\":\"#E5ECF6\",\"angularaxis\":{\"gridcolor\":\"white\",\"linecolor\":\"white\",\"ticks\":\"\"},\"radialaxis\":{\"gridcolor\":\"white\",\"linecolor\":\"white\",\"ticks\":\"\"}},\"ternary\":{\"bgcolor\":\"#E5ECF6\",\"aaxis\":{\"gridcolor\":\"white\",\"linecolor\":\"white\",\"ticks\":\"\"},\"baxis\":{\"gridcolor\":\"white\",\"linecolor\":\"white\",\"ticks\":\"\"},\"caxis\":{\"gridcolor\":\"white\",\"linecolor\":\"white\",\"ticks\":\"\"}},\"coloraxis\":{\"colorbar\":{\"outlinewidth\":0,\"ticks\":\"\"}},\"colorscale\":{\"sequential\":[[0.0,\"#0d0887\"],[0.1111111111111111,\"#46039f\"],[0.2222222222222222,\"#7201a8\"],[0.3333333333333333,\"#9c179e\"],[0.4444444444444444,\"#bd3786\"],[0.5555555555555556,\"#d8576b\"],[0.6666666666666666,\"#ed7953\"],[0.7777777777777778,\"#fb9f3a\"],[0.8888888888888888,\"#fdca26\"],[1.0,\"#f0f921\"]],\"sequentialminus\":[[0.0,\"#0d0887\"],[0.1111111111111111,\"#46039f\"],[0.2222222222222222,\"#7201a8\"],[0.3333333333333333,\"#9c179e\"],[0.4444444444444444,\"#bd3786\"],[0.5555555555555556,\"#d8576b\"],[0.6666666666666666,\"#ed7953\"],[0.7777777777777778,\"#fb9f3a\"],[0.8888888888888888,\"#fdca26\"],[1.0,\"#f0f921\"]],\"diverging\":[[0,\"#8e0152\"],[0.1,\"#c51b7d\"],[0.2,\"#de77ae\"],[0.3,\"#f1b6da\"],[0.4,\"#fde0ef\"],[0.5,\"#f7f7f7\"],[0.6,\"#e6f5d0\"],[0.7,\"#b8e186\"],[0.8,\"#7fbc41\"],[0.9,\"#4d9221\"],[1,\"#276419\"]]},\"xaxis\":{\"gridcolor\":\"white\",\"linecolor\":\"white\",\"ticks\":\"\",\"title\":{\"standoff\":15},\"zerolinecolor\":\"white\",\"automargin\":true,\"zerolinewidth\":2},\"yaxis\":{\"gridcolor\":\"white\",\"linecolor\":\"white\",\"ticks\":\"\",\"title\":{\"standoff\":15},\"zerolinecolor\":\"white\",\"automargin\":true,\"zerolinewidth\":2},\"scene\":{\"xaxis\":{\"backgroundcolor\":\"#E5ECF6\",\"gridcolor\":\"white\",\"linecolor\":\"white\",\"showbackground\":true,\"ticks\":\"\",\"zerolinecolor\":\"white\",\"gridwidth\":2},\"yaxis\":{\"backgroundcolor\":\"#E5ECF6\",\"gridcolor\":\"white\",\"linecolor\":\"white\",\"showbackground\":true,\"ticks\":\"\",\"zerolinecolor\":\"white\",\"gridwidth\":2},\"zaxis\":{\"backgroundcolor\":\"#E5ECF6\",\"gridcolor\":\"white\",\"linecolor\":\"white\",\"showbackground\":true,\"ticks\":\"\",\"zerolinecolor\":\"white\",\"gridwidth\":2}},\"shapedefaults\":{\"line\":{\"color\":\"#2a3f5f\"}},\"annotationdefaults\":{\"arrowcolor\":\"#2a3f5f\",\"arrowhead\":0,\"arrowwidth\":1},\"geo\":{\"bgcolor\":\"white\",\"landcolor\":\"#E5ECF6\",\"subunitcolor\":\"white\",\"showland\":true,\"showlakes\":true,\"lakecolor\":\"white\"},\"title\":{\"x\":0.05},\"mapbox\":{\"style\":\"light\"}}},\"xaxis\":{\"anchor\":\"y\",\"domain\":[0.0,1.0],\"title\":{\"text\":\"Junction\"},\"categoryorder\":\"array\",\"categoryarray\":[false,true]},\"yaxis\":{\"anchor\":\"x\",\"domain\":[0.0,1.0],\"title\":{\"text\":\"Count\"}},\"legend\":{\"title\":{\"text\":\"Junction\"},\"tracegroupgap\":0},\"title\":{\"text\":\"Number of Accidents near Junctions\"},\"barmode\":\"relative\"},                        {\"responsive\": true}                    ).then(function(){\n",
       "                            \n",
       "var gd = document.getElementById('3d1559d6-48d8-411e-be09-f3679b9b6854');\n",
       "var x = new MutationObserver(function (mutations, observer) {{\n",
       "        var display = window.getComputedStyle(gd).display;\n",
       "        if (!display || display === 'none') {{\n",
       "            console.log([gd, 'removed!']);\n",
       "            Plotly.purge(gd);\n",
       "            observer.disconnect();\n",
       "        }}\n",
       "}});\n",
       "\n",
       "// Listen for the removal of the full notebook cells\n",
       "var notebookContainer = gd.closest('#notebook-container');\n",
       "if (notebookContainer) {{\n",
       "    x.observe(notebookContainer, {childList: true});\n",
       "}}\n",
       "\n",
       "// Listen for the clearing of the current output cell\n",
       "var outputEl = gd.closest('.output');\n",
       "if (outputEl) {{\n",
       "    x.observe(outputEl, {childList: true});\n",
       "}}\n",
       "\n",
       "                        })                };                });            </script>        </div>"
      ]
     },
     "metadata": {},
     "output_type": "display_data"
    }
   ],
   "source": [
    "# Count occurrences of True and False\n",
    "junction_counts = df['Junction'].value_counts().reset_index()\n",
    "stop_counts.columns = ['Junction', 'Count']  # Rename column\n",
    "\n",
    "# Create bar plot\n",
    "fig = px.bar(\n",
    "    stop_counts,\n",
    "    x='Junction',\n",
    "    y='Count',\n",
    "    text='Count',  # Display the total number on the bars\n",
    "    color='Junction',  \n",
    "    color_discrete_map={True: '#fc8d62', False: '#66c2a5'},  # Pastel colors\n",
    "    title=\"Number of Accidents near Junctions\"\n",
    ")\n",
    "fig\n"
   ]
  },
  {
   "cell_type": "code",
   "execution_count": 42,
   "id": "b6c6844d",
   "metadata": {},
   "outputs": [
    {
     "data": {
      "application/vnd.plotly.v1+json": {
       "config": {
        "plotlyServerURL": "https://plot.ly"
       },
       "data": [
        {
         "alignmentgroup": "True",
         "hovertemplate": "Stop=%{x}<br>Count=%{text}<extra></extra>",
         "legendgroup": "False",
         "marker": {
          "color": "#66c2a5",
          "pattern": {
           "shape": ""
          }
         },
         "name": "False",
         "offsetgroup": "False",
         "orientation": "v",
         "showlegend": true,
         "text": [
          9714
         ],
         "textposition": "auto",
         "type": "bar",
         "x": [
          false
         ],
         "xaxis": "x",
         "y": [
          9714
         ],
         "yaxis": "y"
        },
        {
         "alignmentgroup": "True",
         "hovertemplate": "Stop=%{x}<br>Count=%{text}<extra></extra>",
         "legendgroup": "True",
         "marker": {
          "color": "#fc8d62",
          "pattern": {
           "shape": ""
          }
         },
         "name": "True",
         "offsetgroup": "True",
         "orientation": "v",
         "showlegend": true,
         "text": [
          286
         ],
         "textposition": "auto",
         "type": "bar",
         "x": [
          true
         ],
         "xaxis": "x",
         "y": [
          286
         ],
         "yaxis": "y"
        }
       ],
       "layout": {
        "barmode": "relative",
        "legend": {
         "title": {
          "text": "Stop"
         },
         "tracegroupgap": 0
        },
        "template": {
         "data": {
          "bar": [
           {
            "error_x": {
             "color": "#2a3f5f"
            },
            "error_y": {
             "color": "#2a3f5f"
            },
            "marker": {
             "line": {
              "color": "#E5ECF6",
              "width": 0.5
             },
             "pattern": {
              "fillmode": "overlay",
              "size": 10,
              "solidity": 0.2
             }
            },
            "type": "bar"
           }
          ],
          "barpolar": [
           {
            "marker": {
             "line": {
              "color": "#E5ECF6",
              "width": 0.5
             },
             "pattern": {
              "fillmode": "overlay",
              "size": 10,
              "solidity": 0.2
             }
            },
            "type": "barpolar"
           }
          ],
          "carpet": [
           {
            "aaxis": {
             "endlinecolor": "#2a3f5f",
             "gridcolor": "white",
             "linecolor": "white",
             "minorgridcolor": "white",
             "startlinecolor": "#2a3f5f"
            },
            "baxis": {
             "endlinecolor": "#2a3f5f",
             "gridcolor": "white",
             "linecolor": "white",
             "minorgridcolor": "white",
             "startlinecolor": "#2a3f5f"
            },
            "type": "carpet"
           }
          ],
          "choropleth": [
           {
            "colorbar": {
             "outlinewidth": 0,
             "ticks": ""
            },
            "type": "choropleth"
           }
          ],
          "contour": [
           {
            "colorbar": {
             "outlinewidth": 0,
             "ticks": ""
            },
            "colorscale": [
             [
              0,
              "#0d0887"
             ],
             [
              0.1111111111111111,
              "#46039f"
             ],
             [
              0.2222222222222222,
              "#7201a8"
             ],
             [
              0.3333333333333333,
              "#9c179e"
             ],
             [
              0.4444444444444444,
              "#bd3786"
             ],
             [
              0.5555555555555556,
              "#d8576b"
             ],
             [
              0.6666666666666666,
              "#ed7953"
             ],
             [
              0.7777777777777778,
              "#fb9f3a"
             ],
             [
              0.8888888888888888,
              "#fdca26"
             ],
             [
              1,
              "#f0f921"
             ]
            ],
            "type": "contour"
           }
          ],
          "contourcarpet": [
           {
            "colorbar": {
             "outlinewidth": 0,
             "ticks": ""
            },
            "type": "contourcarpet"
           }
          ],
          "heatmap": [
           {
            "colorbar": {
             "outlinewidth": 0,
             "ticks": ""
            },
            "colorscale": [
             [
              0,
              "#0d0887"
             ],
             [
              0.1111111111111111,
              "#46039f"
             ],
             [
              0.2222222222222222,
              "#7201a8"
             ],
             [
              0.3333333333333333,
              "#9c179e"
             ],
             [
              0.4444444444444444,
              "#bd3786"
             ],
             [
              0.5555555555555556,
              "#d8576b"
             ],
             [
              0.6666666666666666,
              "#ed7953"
             ],
             [
              0.7777777777777778,
              "#fb9f3a"
             ],
             [
              0.8888888888888888,
              "#fdca26"
             ],
             [
              1,
              "#f0f921"
             ]
            ],
            "type": "heatmap"
           }
          ],
          "heatmapgl": [
           {
            "colorbar": {
             "outlinewidth": 0,
             "ticks": ""
            },
            "colorscale": [
             [
              0,
              "#0d0887"
             ],
             [
              0.1111111111111111,
              "#46039f"
             ],
             [
              0.2222222222222222,
              "#7201a8"
             ],
             [
              0.3333333333333333,
              "#9c179e"
             ],
             [
              0.4444444444444444,
              "#bd3786"
             ],
             [
              0.5555555555555556,
              "#d8576b"
             ],
             [
              0.6666666666666666,
              "#ed7953"
             ],
             [
              0.7777777777777778,
              "#fb9f3a"
             ],
             [
              0.8888888888888888,
              "#fdca26"
             ],
             [
              1,
              "#f0f921"
             ]
            ],
            "type": "heatmapgl"
           }
          ],
          "histogram": [
           {
            "marker": {
             "pattern": {
              "fillmode": "overlay",
              "size": 10,
              "solidity": 0.2
             }
            },
            "type": "histogram"
           }
          ],
          "histogram2d": [
           {
            "colorbar": {
             "outlinewidth": 0,
             "ticks": ""
            },
            "colorscale": [
             [
              0,
              "#0d0887"
             ],
             [
              0.1111111111111111,
              "#46039f"
             ],
             [
              0.2222222222222222,
              "#7201a8"
             ],
             [
              0.3333333333333333,
              "#9c179e"
             ],
             [
              0.4444444444444444,
              "#bd3786"
             ],
             [
              0.5555555555555556,
              "#d8576b"
             ],
             [
              0.6666666666666666,
              "#ed7953"
             ],
             [
              0.7777777777777778,
              "#fb9f3a"
             ],
             [
              0.8888888888888888,
              "#fdca26"
             ],
             [
              1,
              "#f0f921"
             ]
            ],
            "type": "histogram2d"
           }
          ],
          "histogram2dcontour": [
           {
            "colorbar": {
             "outlinewidth": 0,
             "ticks": ""
            },
            "colorscale": [
             [
              0,
              "#0d0887"
             ],
             [
              0.1111111111111111,
              "#46039f"
             ],
             [
              0.2222222222222222,
              "#7201a8"
             ],
             [
              0.3333333333333333,
              "#9c179e"
             ],
             [
              0.4444444444444444,
              "#bd3786"
             ],
             [
              0.5555555555555556,
              "#d8576b"
             ],
             [
              0.6666666666666666,
              "#ed7953"
             ],
             [
              0.7777777777777778,
              "#fb9f3a"
             ],
             [
              0.8888888888888888,
              "#fdca26"
             ],
             [
              1,
              "#f0f921"
             ]
            ],
            "type": "histogram2dcontour"
           }
          ],
          "mesh3d": [
           {
            "colorbar": {
             "outlinewidth": 0,
             "ticks": ""
            },
            "type": "mesh3d"
           }
          ],
          "parcoords": [
           {
            "line": {
             "colorbar": {
              "outlinewidth": 0,
              "ticks": ""
             }
            },
            "type": "parcoords"
           }
          ],
          "pie": [
           {
            "automargin": true,
            "type": "pie"
           }
          ],
          "scatter": [
           {
            "fillpattern": {
             "fillmode": "overlay",
             "size": 10,
             "solidity": 0.2
            },
            "type": "scatter"
           }
          ],
          "scatter3d": [
           {
            "line": {
             "colorbar": {
              "outlinewidth": 0,
              "ticks": ""
             }
            },
            "marker": {
             "colorbar": {
              "outlinewidth": 0,
              "ticks": ""
             }
            },
            "type": "scatter3d"
           }
          ],
          "scattercarpet": [
           {
            "marker": {
             "colorbar": {
              "outlinewidth": 0,
              "ticks": ""
             }
            },
            "type": "scattercarpet"
           }
          ],
          "scattergeo": [
           {
            "marker": {
             "colorbar": {
              "outlinewidth": 0,
              "ticks": ""
             }
            },
            "type": "scattergeo"
           }
          ],
          "scattergl": [
           {
            "marker": {
             "colorbar": {
              "outlinewidth": 0,
              "ticks": ""
             }
            },
            "type": "scattergl"
           }
          ],
          "scattermapbox": [
           {
            "marker": {
             "colorbar": {
              "outlinewidth": 0,
              "ticks": ""
             }
            },
            "type": "scattermapbox"
           }
          ],
          "scatterpolar": [
           {
            "marker": {
             "colorbar": {
              "outlinewidth": 0,
              "ticks": ""
             }
            },
            "type": "scatterpolar"
           }
          ],
          "scatterpolargl": [
           {
            "marker": {
             "colorbar": {
              "outlinewidth": 0,
              "ticks": ""
             }
            },
            "type": "scatterpolargl"
           }
          ],
          "scatterternary": [
           {
            "marker": {
             "colorbar": {
              "outlinewidth": 0,
              "ticks": ""
             }
            },
            "type": "scatterternary"
           }
          ],
          "surface": [
           {
            "colorbar": {
             "outlinewidth": 0,
             "ticks": ""
            },
            "colorscale": [
             [
              0,
              "#0d0887"
             ],
             [
              0.1111111111111111,
              "#46039f"
             ],
             [
              0.2222222222222222,
              "#7201a8"
             ],
             [
              0.3333333333333333,
              "#9c179e"
             ],
             [
              0.4444444444444444,
              "#bd3786"
             ],
             [
              0.5555555555555556,
              "#d8576b"
             ],
             [
              0.6666666666666666,
              "#ed7953"
             ],
             [
              0.7777777777777778,
              "#fb9f3a"
             ],
             [
              0.8888888888888888,
              "#fdca26"
             ],
             [
              1,
              "#f0f921"
             ]
            ],
            "type": "surface"
           }
          ],
          "table": [
           {
            "cells": {
             "fill": {
              "color": "#EBF0F8"
             },
             "line": {
              "color": "white"
             }
            },
            "header": {
             "fill": {
              "color": "#C8D4E3"
             },
             "line": {
              "color": "white"
             }
            },
            "type": "table"
           }
          ]
         },
         "layout": {
          "annotationdefaults": {
           "arrowcolor": "#2a3f5f",
           "arrowhead": 0,
           "arrowwidth": 1
          },
          "autotypenumbers": "strict",
          "coloraxis": {
           "colorbar": {
            "outlinewidth": 0,
            "ticks": ""
           }
          },
          "colorscale": {
           "diverging": [
            [
             0,
             "#8e0152"
            ],
            [
             0.1,
             "#c51b7d"
            ],
            [
             0.2,
             "#de77ae"
            ],
            [
             0.3,
             "#f1b6da"
            ],
            [
             0.4,
             "#fde0ef"
            ],
            [
             0.5,
             "#f7f7f7"
            ],
            [
             0.6,
             "#e6f5d0"
            ],
            [
             0.7,
             "#b8e186"
            ],
            [
             0.8,
             "#7fbc41"
            ],
            [
             0.9,
             "#4d9221"
            ],
            [
             1,
             "#276419"
            ]
           ],
           "sequential": [
            [
             0,
             "#0d0887"
            ],
            [
             0.1111111111111111,
             "#46039f"
            ],
            [
             0.2222222222222222,
             "#7201a8"
            ],
            [
             0.3333333333333333,
             "#9c179e"
            ],
            [
             0.4444444444444444,
             "#bd3786"
            ],
            [
             0.5555555555555556,
             "#d8576b"
            ],
            [
             0.6666666666666666,
             "#ed7953"
            ],
            [
             0.7777777777777778,
             "#fb9f3a"
            ],
            [
             0.8888888888888888,
             "#fdca26"
            ],
            [
             1,
             "#f0f921"
            ]
           ],
           "sequentialminus": [
            [
             0,
             "#0d0887"
            ],
            [
             0.1111111111111111,
             "#46039f"
            ],
            [
             0.2222222222222222,
             "#7201a8"
            ],
            [
             0.3333333333333333,
             "#9c179e"
            ],
            [
             0.4444444444444444,
             "#bd3786"
            ],
            [
             0.5555555555555556,
             "#d8576b"
            ],
            [
             0.6666666666666666,
             "#ed7953"
            ],
            [
             0.7777777777777778,
             "#fb9f3a"
            ],
            [
             0.8888888888888888,
             "#fdca26"
            ],
            [
             1,
             "#f0f921"
            ]
           ]
          },
          "colorway": [
           "#636efa",
           "#EF553B",
           "#00cc96",
           "#ab63fa",
           "#FFA15A",
           "#19d3f3",
           "#FF6692",
           "#B6E880",
           "#FF97FF",
           "#FECB52"
          ],
          "font": {
           "color": "#2a3f5f"
          },
          "geo": {
           "bgcolor": "white",
           "lakecolor": "white",
           "landcolor": "#E5ECF6",
           "showlakes": true,
           "showland": true,
           "subunitcolor": "white"
          },
          "hoverlabel": {
           "align": "left"
          },
          "hovermode": "closest",
          "mapbox": {
           "style": "light"
          },
          "paper_bgcolor": "white",
          "plot_bgcolor": "#E5ECF6",
          "polar": {
           "angularaxis": {
            "gridcolor": "white",
            "linecolor": "white",
            "ticks": ""
           },
           "bgcolor": "#E5ECF6",
           "radialaxis": {
            "gridcolor": "white",
            "linecolor": "white",
            "ticks": ""
           }
          },
          "scene": {
           "xaxis": {
            "backgroundcolor": "#E5ECF6",
            "gridcolor": "white",
            "gridwidth": 2,
            "linecolor": "white",
            "showbackground": true,
            "ticks": "",
            "zerolinecolor": "white"
           },
           "yaxis": {
            "backgroundcolor": "#E5ECF6",
            "gridcolor": "white",
            "gridwidth": 2,
            "linecolor": "white",
            "showbackground": true,
            "ticks": "",
            "zerolinecolor": "white"
           },
           "zaxis": {
            "backgroundcolor": "#E5ECF6",
            "gridcolor": "white",
            "gridwidth": 2,
            "linecolor": "white",
            "showbackground": true,
            "ticks": "",
            "zerolinecolor": "white"
           }
          },
          "shapedefaults": {
           "line": {
            "color": "#2a3f5f"
           }
          },
          "ternary": {
           "aaxis": {
            "gridcolor": "white",
            "linecolor": "white",
            "ticks": ""
           },
           "baxis": {
            "gridcolor": "white",
            "linecolor": "white",
            "ticks": ""
           },
           "bgcolor": "#E5ECF6",
           "caxis": {
            "gridcolor": "white",
            "linecolor": "white",
            "ticks": ""
           }
          },
          "title": {
           "x": 0.05
          },
          "xaxis": {
           "automargin": true,
           "gridcolor": "white",
           "linecolor": "white",
           "ticks": "",
           "title": {
            "standoff": 15
           },
           "zerolinecolor": "white",
           "zerolinewidth": 2
          },
          "yaxis": {
           "automargin": true,
           "gridcolor": "white",
           "linecolor": "white",
           "ticks": "",
           "title": {
            "standoff": 15
           },
           "zerolinecolor": "white",
           "zerolinewidth": 2
          }
         }
        },
        "title": {
         "text": "Number of Accidents near Stop Signals"
        },
        "xaxis": {
         "anchor": "y",
         "categoryarray": [
          false,
          true
         ],
         "categoryorder": "array",
         "domain": [
          0,
          1
         ],
         "title": {
          "text": "Stop"
         }
        },
        "yaxis": {
         "anchor": "x",
         "domain": [
          0,
          1
         ],
         "title": {
          "text": "Count"
         }
        }
       }
      },
      "text/html": [
       "<div>                            <div id=\"96049e1b-8c7c-4191-ac59-9a7462bf33e3\" class=\"plotly-graph-div\" style=\"height:525px; width:100%;\"></div>            <script type=\"text/javascript\">                require([\"plotly\"], function(Plotly) {                    window.PLOTLYENV=window.PLOTLYENV || {};                                    if (document.getElementById(\"96049e1b-8c7c-4191-ac59-9a7462bf33e3\")) {                    Plotly.newPlot(                        \"96049e1b-8c7c-4191-ac59-9a7462bf33e3\",                        [{\"alignmentgroup\":\"True\",\"hovertemplate\":\"Stop=%{x}\\u003cbr\\u003eCount=%{text}\\u003cextra\\u003e\\u003c\\u002fextra\\u003e\",\"legendgroup\":\"False\",\"marker\":{\"color\":\"#66c2a5\",\"pattern\":{\"shape\":\"\"}},\"name\":\"False\",\"offsetgroup\":\"False\",\"orientation\":\"v\",\"showlegend\":true,\"text\":[9714.0],\"textposition\":\"auto\",\"x\":[false],\"xaxis\":\"x\",\"y\":[9714],\"yaxis\":\"y\",\"type\":\"bar\"},{\"alignmentgroup\":\"True\",\"hovertemplate\":\"Stop=%{x}\\u003cbr\\u003eCount=%{text}\\u003cextra\\u003e\\u003c\\u002fextra\\u003e\",\"legendgroup\":\"True\",\"marker\":{\"color\":\"#fc8d62\",\"pattern\":{\"shape\":\"\"}},\"name\":\"True\",\"offsetgroup\":\"True\",\"orientation\":\"v\",\"showlegend\":true,\"text\":[286.0],\"textposition\":\"auto\",\"x\":[true],\"xaxis\":\"x\",\"y\":[286],\"yaxis\":\"y\",\"type\":\"bar\"}],                        {\"template\":{\"data\":{\"histogram2dcontour\":[{\"type\":\"histogram2dcontour\",\"colorbar\":{\"outlinewidth\":0,\"ticks\":\"\"},\"colorscale\":[[0.0,\"#0d0887\"],[0.1111111111111111,\"#46039f\"],[0.2222222222222222,\"#7201a8\"],[0.3333333333333333,\"#9c179e\"],[0.4444444444444444,\"#bd3786\"],[0.5555555555555556,\"#d8576b\"],[0.6666666666666666,\"#ed7953\"],[0.7777777777777778,\"#fb9f3a\"],[0.8888888888888888,\"#fdca26\"],[1.0,\"#f0f921\"]]}],\"choropleth\":[{\"type\":\"choropleth\",\"colorbar\":{\"outlinewidth\":0,\"ticks\":\"\"}}],\"histogram2d\":[{\"type\":\"histogram2d\",\"colorbar\":{\"outlinewidth\":0,\"ticks\":\"\"},\"colorscale\":[[0.0,\"#0d0887\"],[0.1111111111111111,\"#46039f\"],[0.2222222222222222,\"#7201a8\"],[0.3333333333333333,\"#9c179e\"],[0.4444444444444444,\"#bd3786\"],[0.5555555555555556,\"#d8576b\"],[0.6666666666666666,\"#ed7953\"],[0.7777777777777778,\"#fb9f3a\"],[0.8888888888888888,\"#fdca26\"],[1.0,\"#f0f921\"]]}],\"heatmap\":[{\"type\":\"heatmap\",\"colorbar\":{\"outlinewidth\":0,\"ticks\":\"\"},\"colorscale\":[[0.0,\"#0d0887\"],[0.1111111111111111,\"#46039f\"],[0.2222222222222222,\"#7201a8\"],[0.3333333333333333,\"#9c179e\"],[0.4444444444444444,\"#bd3786\"],[0.5555555555555556,\"#d8576b\"],[0.6666666666666666,\"#ed7953\"],[0.7777777777777778,\"#fb9f3a\"],[0.8888888888888888,\"#fdca26\"],[1.0,\"#f0f921\"]]}],\"heatmapgl\":[{\"type\":\"heatmapgl\",\"colorbar\":{\"outlinewidth\":0,\"ticks\":\"\"},\"colorscale\":[[0.0,\"#0d0887\"],[0.1111111111111111,\"#46039f\"],[0.2222222222222222,\"#7201a8\"],[0.3333333333333333,\"#9c179e\"],[0.4444444444444444,\"#bd3786\"],[0.5555555555555556,\"#d8576b\"],[0.6666666666666666,\"#ed7953\"],[0.7777777777777778,\"#fb9f3a\"],[0.8888888888888888,\"#fdca26\"],[1.0,\"#f0f921\"]]}],\"contourcarpet\":[{\"type\":\"contourcarpet\",\"colorbar\":{\"outlinewidth\":0,\"ticks\":\"\"}}],\"contour\":[{\"type\":\"contour\",\"colorbar\":{\"outlinewidth\":0,\"ticks\":\"\"},\"colorscale\":[[0.0,\"#0d0887\"],[0.1111111111111111,\"#46039f\"],[0.2222222222222222,\"#7201a8\"],[0.3333333333333333,\"#9c179e\"],[0.4444444444444444,\"#bd3786\"],[0.5555555555555556,\"#d8576b\"],[0.6666666666666666,\"#ed7953\"],[0.7777777777777778,\"#fb9f3a\"],[0.8888888888888888,\"#fdca26\"],[1.0,\"#f0f921\"]]}],\"surface\":[{\"type\":\"surface\",\"colorbar\":{\"outlinewidth\":0,\"ticks\":\"\"},\"colorscale\":[[0.0,\"#0d0887\"],[0.1111111111111111,\"#46039f\"],[0.2222222222222222,\"#7201a8\"],[0.3333333333333333,\"#9c179e\"],[0.4444444444444444,\"#bd3786\"],[0.5555555555555556,\"#d8576b\"],[0.6666666666666666,\"#ed7953\"],[0.7777777777777778,\"#fb9f3a\"],[0.8888888888888888,\"#fdca26\"],[1.0,\"#f0f921\"]]}],\"mesh3d\":[{\"type\":\"mesh3d\",\"colorbar\":{\"outlinewidth\":0,\"ticks\":\"\"}}],\"scatter\":[{\"fillpattern\":{\"fillmode\":\"overlay\",\"size\":10,\"solidity\":0.2},\"type\":\"scatter\"}],\"parcoords\":[{\"type\":\"parcoords\",\"line\":{\"colorbar\":{\"outlinewidth\":0,\"ticks\":\"\"}}}],\"scatterpolargl\":[{\"type\":\"scatterpolargl\",\"marker\":{\"colorbar\":{\"outlinewidth\":0,\"ticks\":\"\"}}}],\"bar\":[{\"error_x\":{\"color\":\"#2a3f5f\"},\"error_y\":{\"color\":\"#2a3f5f\"},\"marker\":{\"line\":{\"color\":\"#E5ECF6\",\"width\":0.5},\"pattern\":{\"fillmode\":\"overlay\",\"size\":10,\"solidity\":0.2}},\"type\":\"bar\"}],\"scattergeo\":[{\"type\":\"scattergeo\",\"marker\":{\"colorbar\":{\"outlinewidth\":0,\"ticks\":\"\"}}}],\"scatterpolar\":[{\"type\":\"scatterpolar\",\"marker\":{\"colorbar\":{\"outlinewidth\":0,\"ticks\":\"\"}}}],\"histogram\":[{\"marker\":{\"pattern\":{\"fillmode\":\"overlay\",\"size\":10,\"solidity\":0.2}},\"type\":\"histogram\"}],\"scattergl\":[{\"type\":\"scattergl\",\"marker\":{\"colorbar\":{\"outlinewidth\":0,\"ticks\":\"\"}}}],\"scatter3d\":[{\"type\":\"scatter3d\",\"line\":{\"colorbar\":{\"outlinewidth\":0,\"ticks\":\"\"}},\"marker\":{\"colorbar\":{\"outlinewidth\":0,\"ticks\":\"\"}}}],\"scattermapbox\":[{\"type\":\"scattermapbox\",\"marker\":{\"colorbar\":{\"outlinewidth\":0,\"ticks\":\"\"}}}],\"scatterternary\":[{\"type\":\"scatterternary\",\"marker\":{\"colorbar\":{\"outlinewidth\":0,\"ticks\":\"\"}}}],\"scattercarpet\":[{\"type\":\"scattercarpet\",\"marker\":{\"colorbar\":{\"outlinewidth\":0,\"ticks\":\"\"}}}],\"carpet\":[{\"aaxis\":{\"endlinecolor\":\"#2a3f5f\",\"gridcolor\":\"white\",\"linecolor\":\"white\",\"minorgridcolor\":\"white\",\"startlinecolor\":\"#2a3f5f\"},\"baxis\":{\"endlinecolor\":\"#2a3f5f\",\"gridcolor\":\"white\",\"linecolor\":\"white\",\"minorgridcolor\":\"white\",\"startlinecolor\":\"#2a3f5f\"},\"type\":\"carpet\"}],\"table\":[{\"cells\":{\"fill\":{\"color\":\"#EBF0F8\"},\"line\":{\"color\":\"white\"}},\"header\":{\"fill\":{\"color\":\"#C8D4E3\"},\"line\":{\"color\":\"white\"}},\"type\":\"table\"}],\"barpolar\":[{\"marker\":{\"line\":{\"color\":\"#E5ECF6\",\"width\":0.5},\"pattern\":{\"fillmode\":\"overlay\",\"size\":10,\"solidity\":0.2}},\"type\":\"barpolar\"}],\"pie\":[{\"automargin\":true,\"type\":\"pie\"}]},\"layout\":{\"autotypenumbers\":\"strict\",\"colorway\":[\"#636efa\",\"#EF553B\",\"#00cc96\",\"#ab63fa\",\"#FFA15A\",\"#19d3f3\",\"#FF6692\",\"#B6E880\",\"#FF97FF\",\"#FECB52\"],\"font\":{\"color\":\"#2a3f5f\"},\"hovermode\":\"closest\",\"hoverlabel\":{\"align\":\"left\"},\"paper_bgcolor\":\"white\",\"plot_bgcolor\":\"#E5ECF6\",\"polar\":{\"bgcolor\":\"#E5ECF6\",\"angularaxis\":{\"gridcolor\":\"white\",\"linecolor\":\"white\",\"ticks\":\"\"},\"radialaxis\":{\"gridcolor\":\"white\",\"linecolor\":\"white\",\"ticks\":\"\"}},\"ternary\":{\"bgcolor\":\"#E5ECF6\",\"aaxis\":{\"gridcolor\":\"white\",\"linecolor\":\"white\",\"ticks\":\"\"},\"baxis\":{\"gridcolor\":\"white\",\"linecolor\":\"white\",\"ticks\":\"\"},\"caxis\":{\"gridcolor\":\"white\",\"linecolor\":\"white\",\"ticks\":\"\"}},\"coloraxis\":{\"colorbar\":{\"outlinewidth\":0,\"ticks\":\"\"}},\"colorscale\":{\"sequential\":[[0.0,\"#0d0887\"],[0.1111111111111111,\"#46039f\"],[0.2222222222222222,\"#7201a8\"],[0.3333333333333333,\"#9c179e\"],[0.4444444444444444,\"#bd3786\"],[0.5555555555555556,\"#d8576b\"],[0.6666666666666666,\"#ed7953\"],[0.7777777777777778,\"#fb9f3a\"],[0.8888888888888888,\"#fdca26\"],[1.0,\"#f0f921\"]],\"sequentialminus\":[[0.0,\"#0d0887\"],[0.1111111111111111,\"#46039f\"],[0.2222222222222222,\"#7201a8\"],[0.3333333333333333,\"#9c179e\"],[0.4444444444444444,\"#bd3786\"],[0.5555555555555556,\"#d8576b\"],[0.6666666666666666,\"#ed7953\"],[0.7777777777777778,\"#fb9f3a\"],[0.8888888888888888,\"#fdca26\"],[1.0,\"#f0f921\"]],\"diverging\":[[0,\"#8e0152\"],[0.1,\"#c51b7d\"],[0.2,\"#de77ae\"],[0.3,\"#f1b6da\"],[0.4,\"#fde0ef\"],[0.5,\"#f7f7f7\"],[0.6,\"#e6f5d0\"],[0.7,\"#b8e186\"],[0.8,\"#7fbc41\"],[0.9,\"#4d9221\"],[1,\"#276419\"]]},\"xaxis\":{\"gridcolor\":\"white\",\"linecolor\":\"white\",\"ticks\":\"\",\"title\":{\"standoff\":15},\"zerolinecolor\":\"white\",\"automargin\":true,\"zerolinewidth\":2},\"yaxis\":{\"gridcolor\":\"white\",\"linecolor\":\"white\",\"ticks\":\"\",\"title\":{\"standoff\":15},\"zerolinecolor\":\"white\",\"automargin\":true,\"zerolinewidth\":2},\"scene\":{\"xaxis\":{\"backgroundcolor\":\"#E5ECF6\",\"gridcolor\":\"white\",\"linecolor\":\"white\",\"showbackground\":true,\"ticks\":\"\",\"zerolinecolor\":\"white\",\"gridwidth\":2},\"yaxis\":{\"backgroundcolor\":\"#E5ECF6\",\"gridcolor\":\"white\",\"linecolor\":\"white\",\"showbackground\":true,\"ticks\":\"\",\"zerolinecolor\":\"white\",\"gridwidth\":2},\"zaxis\":{\"backgroundcolor\":\"#E5ECF6\",\"gridcolor\":\"white\",\"linecolor\":\"white\",\"showbackground\":true,\"ticks\":\"\",\"zerolinecolor\":\"white\",\"gridwidth\":2}},\"shapedefaults\":{\"line\":{\"color\":\"#2a3f5f\"}},\"annotationdefaults\":{\"arrowcolor\":\"#2a3f5f\",\"arrowhead\":0,\"arrowwidth\":1},\"geo\":{\"bgcolor\":\"white\",\"landcolor\":\"#E5ECF6\",\"subunitcolor\":\"white\",\"showland\":true,\"showlakes\":true,\"lakecolor\":\"white\"},\"title\":{\"x\":0.05},\"mapbox\":{\"style\":\"light\"}}},\"xaxis\":{\"anchor\":\"y\",\"domain\":[0.0,1.0],\"title\":{\"text\":\"Stop\"},\"categoryorder\":\"array\",\"categoryarray\":[false,true]},\"yaxis\":{\"anchor\":\"x\",\"domain\":[0.0,1.0],\"title\":{\"text\":\"Count\"}},\"legend\":{\"title\":{\"text\":\"Stop\"},\"tracegroupgap\":0},\"title\":{\"text\":\"Number of Accidents near Stop Signals\"},\"barmode\":\"relative\"},                        {\"responsive\": true}                    ).then(function(){\n",
       "                            \n",
       "var gd = document.getElementById('96049e1b-8c7c-4191-ac59-9a7462bf33e3');\n",
       "var x = new MutationObserver(function (mutations, observer) {{\n",
       "        var display = window.getComputedStyle(gd).display;\n",
       "        if (!display || display === 'none') {{\n",
       "            console.log([gd, 'removed!']);\n",
       "            Plotly.purge(gd);\n",
       "            observer.disconnect();\n",
       "        }}\n",
       "}});\n",
       "\n",
       "// Listen for the removal of the full notebook cells\n",
       "var notebookContainer = gd.closest('#notebook-container');\n",
       "if (notebookContainer) {{\n",
       "    x.observe(notebookContainer, {childList: true});\n",
       "}}\n",
       "\n",
       "// Listen for the clearing of the current output cell\n",
       "var outputEl = gd.closest('.output');\n",
       "if (outputEl) {{\n",
       "    x.observe(outputEl, {childList: true});\n",
       "}}\n",
       "\n",
       "                        })                };                });            </script>        </div>"
      ]
     },
     "metadata": {},
     "output_type": "display_data"
    }
   ],
   "source": [
    "# Count occurrences of True and False\n",
    "stop_counts = df['Stop'].value_counts().reset_index()\n",
    "stop_counts.columns = ['Stop', 'Count']  # Rename column\n",
    "\n",
    "# Create bar plot\n",
    "fig = px.bar(\n",
    "    stop_counts,\n",
    "    x='Stop',\n",
    "    y='Count',\n",
    "    text='Count',  # Display the total number on the bars\n",
    "    color='Stop',  \n",
    "    color_discrete_map={True: '#fc8d62', False: '#66c2a5'},  # Pastel colors\n",
    "    title=\"Number of Accidents near Stop Signals\"\n",
    ")\n",
    "fig\n"
   ]
  },
  {
   "cell_type": "code",
   "execution_count": 46,
   "id": "73778330",
   "metadata": {},
   "outputs": [
    {
     "data": {
      "application/vnd.plotly.v1+json": {
       "config": {
        "plotlyServerURL": "https://plot.ly"
       },
       "data": [
        {
         "alignmentgroup": "True",
         "hovertemplate": "Traffic_Signal=%{x}<br>Count=%{text}<extra></extra>",
         "legendgroup": "False",
         "marker": {
          "color": "#66c2a5",
          "pattern": {
           "shape": ""
          }
         },
         "name": "False",
         "offsetgroup": "False",
         "orientation": "v",
         "showlegend": true,
         "text": [
          9094
         ],
         "textposition": "auto",
         "type": "bar",
         "x": [
          false
         ],
         "xaxis": "x",
         "y": [
          9094
         ],
         "yaxis": "y"
        },
        {
         "alignmentgroup": "True",
         "hovertemplate": "Traffic_Signal=%{x}<br>Count=%{text}<extra></extra>",
         "legendgroup": "True",
         "marker": {
          "color": "#fc8d62",
          "pattern": {
           "shape": ""
          }
         },
         "name": "True",
         "offsetgroup": "True",
         "orientation": "v",
         "showlegend": true,
         "text": [
          906
         ],
         "textposition": "auto",
         "type": "bar",
         "x": [
          true
         ],
         "xaxis": "x",
         "y": [
          906
         ],
         "yaxis": "y"
        }
       ],
       "layout": {
        "barmode": "relative",
        "legend": {
         "title": {
          "text": "Traffic_Signal"
         },
         "tracegroupgap": 0
        },
        "template": {
         "data": {
          "bar": [
           {
            "error_x": {
             "color": "#2a3f5f"
            },
            "error_y": {
             "color": "#2a3f5f"
            },
            "marker": {
             "line": {
              "color": "#E5ECF6",
              "width": 0.5
             },
             "pattern": {
              "fillmode": "overlay",
              "size": 10,
              "solidity": 0.2
             }
            },
            "type": "bar"
           }
          ],
          "barpolar": [
           {
            "marker": {
             "line": {
              "color": "#E5ECF6",
              "width": 0.5
             },
             "pattern": {
              "fillmode": "overlay",
              "size": 10,
              "solidity": 0.2
             }
            },
            "type": "barpolar"
           }
          ],
          "carpet": [
           {
            "aaxis": {
             "endlinecolor": "#2a3f5f",
             "gridcolor": "white",
             "linecolor": "white",
             "minorgridcolor": "white",
             "startlinecolor": "#2a3f5f"
            },
            "baxis": {
             "endlinecolor": "#2a3f5f",
             "gridcolor": "white",
             "linecolor": "white",
             "minorgridcolor": "white",
             "startlinecolor": "#2a3f5f"
            },
            "type": "carpet"
           }
          ],
          "choropleth": [
           {
            "colorbar": {
             "outlinewidth": 0,
             "ticks": ""
            },
            "type": "choropleth"
           }
          ],
          "contour": [
           {
            "colorbar": {
             "outlinewidth": 0,
             "ticks": ""
            },
            "colorscale": [
             [
              0,
              "#0d0887"
             ],
             [
              0.1111111111111111,
              "#46039f"
             ],
             [
              0.2222222222222222,
              "#7201a8"
             ],
             [
              0.3333333333333333,
              "#9c179e"
             ],
             [
              0.4444444444444444,
              "#bd3786"
             ],
             [
              0.5555555555555556,
              "#d8576b"
             ],
             [
              0.6666666666666666,
              "#ed7953"
             ],
             [
              0.7777777777777778,
              "#fb9f3a"
             ],
             [
              0.8888888888888888,
              "#fdca26"
             ],
             [
              1,
              "#f0f921"
             ]
            ],
            "type": "contour"
           }
          ],
          "contourcarpet": [
           {
            "colorbar": {
             "outlinewidth": 0,
             "ticks": ""
            },
            "type": "contourcarpet"
           }
          ],
          "heatmap": [
           {
            "colorbar": {
             "outlinewidth": 0,
             "ticks": ""
            },
            "colorscale": [
             [
              0,
              "#0d0887"
             ],
             [
              0.1111111111111111,
              "#46039f"
             ],
             [
              0.2222222222222222,
              "#7201a8"
             ],
             [
              0.3333333333333333,
              "#9c179e"
             ],
             [
              0.4444444444444444,
              "#bd3786"
             ],
             [
              0.5555555555555556,
              "#d8576b"
             ],
             [
              0.6666666666666666,
              "#ed7953"
             ],
             [
              0.7777777777777778,
              "#fb9f3a"
             ],
             [
              0.8888888888888888,
              "#fdca26"
             ],
             [
              1,
              "#f0f921"
             ]
            ],
            "type": "heatmap"
           }
          ],
          "heatmapgl": [
           {
            "colorbar": {
             "outlinewidth": 0,
             "ticks": ""
            },
            "colorscale": [
             [
              0,
              "#0d0887"
             ],
             [
              0.1111111111111111,
              "#46039f"
             ],
             [
              0.2222222222222222,
              "#7201a8"
             ],
             [
              0.3333333333333333,
              "#9c179e"
             ],
             [
              0.4444444444444444,
              "#bd3786"
             ],
             [
              0.5555555555555556,
              "#d8576b"
             ],
             [
              0.6666666666666666,
              "#ed7953"
             ],
             [
              0.7777777777777778,
              "#fb9f3a"
             ],
             [
              0.8888888888888888,
              "#fdca26"
             ],
             [
              1,
              "#f0f921"
             ]
            ],
            "type": "heatmapgl"
           }
          ],
          "histogram": [
           {
            "marker": {
             "pattern": {
              "fillmode": "overlay",
              "size": 10,
              "solidity": 0.2
             }
            },
            "type": "histogram"
           }
          ],
          "histogram2d": [
           {
            "colorbar": {
             "outlinewidth": 0,
             "ticks": ""
            },
            "colorscale": [
             [
              0,
              "#0d0887"
             ],
             [
              0.1111111111111111,
              "#46039f"
             ],
             [
              0.2222222222222222,
              "#7201a8"
             ],
             [
              0.3333333333333333,
              "#9c179e"
             ],
             [
              0.4444444444444444,
              "#bd3786"
             ],
             [
              0.5555555555555556,
              "#d8576b"
             ],
             [
              0.6666666666666666,
              "#ed7953"
             ],
             [
              0.7777777777777778,
              "#fb9f3a"
             ],
             [
              0.8888888888888888,
              "#fdca26"
             ],
             [
              1,
              "#f0f921"
             ]
            ],
            "type": "histogram2d"
           }
          ],
          "histogram2dcontour": [
           {
            "colorbar": {
             "outlinewidth": 0,
             "ticks": ""
            },
            "colorscale": [
             [
              0,
              "#0d0887"
             ],
             [
              0.1111111111111111,
              "#46039f"
             ],
             [
              0.2222222222222222,
              "#7201a8"
             ],
             [
              0.3333333333333333,
              "#9c179e"
             ],
             [
              0.4444444444444444,
              "#bd3786"
             ],
             [
              0.5555555555555556,
              "#d8576b"
             ],
             [
              0.6666666666666666,
              "#ed7953"
             ],
             [
              0.7777777777777778,
              "#fb9f3a"
             ],
             [
              0.8888888888888888,
              "#fdca26"
             ],
             [
              1,
              "#f0f921"
             ]
            ],
            "type": "histogram2dcontour"
           }
          ],
          "mesh3d": [
           {
            "colorbar": {
             "outlinewidth": 0,
             "ticks": ""
            },
            "type": "mesh3d"
           }
          ],
          "parcoords": [
           {
            "line": {
             "colorbar": {
              "outlinewidth": 0,
              "ticks": ""
             }
            },
            "type": "parcoords"
           }
          ],
          "pie": [
           {
            "automargin": true,
            "type": "pie"
           }
          ],
          "scatter": [
           {
            "fillpattern": {
             "fillmode": "overlay",
             "size": 10,
             "solidity": 0.2
            },
            "type": "scatter"
           }
          ],
          "scatter3d": [
           {
            "line": {
             "colorbar": {
              "outlinewidth": 0,
              "ticks": ""
             }
            },
            "marker": {
             "colorbar": {
              "outlinewidth": 0,
              "ticks": ""
             }
            },
            "type": "scatter3d"
           }
          ],
          "scattercarpet": [
           {
            "marker": {
             "colorbar": {
              "outlinewidth": 0,
              "ticks": ""
             }
            },
            "type": "scattercarpet"
           }
          ],
          "scattergeo": [
           {
            "marker": {
             "colorbar": {
              "outlinewidth": 0,
              "ticks": ""
             }
            },
            "type": "scattergeo"
           }
          ],
          "scattergl": [
           {
            "marker": {
             "colorbar": {
              "outlinewidth": 0,
              "ticks": ""
             }
            },
            "type": "scattergl"
           }
          ],
          "scattermapbox": [
           {
            "marker": {
             "colorbar": {
              "outlinewidth": 0,
              "ticks": ""
             }
            },
            "type": "scattermapbox"
           }
          ],
          "scatterpolar": [
           {
            "marker": {
             "colorbar": {
              "outlinewidth": 0,
              "ticks": ""
             }
            },
            "type": "scatterpolar"
           }
          ],
          "scatterpolargl": [
           {
            "marker": {
             "colorbar": {
              "outlinewidth": 0,
              "ticks": ""
             }
            },
            "type": "scatterpolargl"
           }
          ],
          "scatterternary": [
           {
            "marker": {
             "colorbar": {
              "outlinewidth": 0,
              "ticks": ""
             }
            },
            "type": "scatterternary"
           }
          ],
          "surface": [
           {
            "colorbar": {
             "outlinewidth": 0,
             "ticks": ""
            },
            "colorscale": [
             [
              0,
              "#0d0887"
             ],
             [
              0.1111111111111111,
              "#46039f"
             ],
             [
              0.2222222222222222,
              "#7201a8"
             ],
             [
              0.3333333333333333,
              "#9c179e"
             ],
             [
              0.4444444444444444,
              "#bd3786"
             ],
             [
              0.5555555555555556,
              "#d8576b"
             ],
             [
              0.6666666666666666,
              "#ed7953"
             ],
             [
              0.7777777777777778,
              "#fb9f3a"
             ],
             [
              0.8888888888888888,
              "#fdca26"
             ],
             [
              1,
              "#f0f921"
             ]
            ],
            "type": "surface"
           }
          ],
          "table": [
           {
            "cells": {
             "fill": {
              "color": "#EBF0F8"
             },
             "line": {
              "color": "white"
             }
            },
            "header": {
             "fill": {
              "color": "#C8D4E3"
             },
             "line": {
              "color": "white"
             }
            },
            "type": "table"
           }
          ]
         },
         "layout": {
          "annotationdefaults": {
           "arrowcolor": "#2a3f5f",
           "arrowhead": 0,
           "arrowwidth": 1
          },
          "autotypenumbers": "strict",
          "coloraxis": {
           "colorbar": {
            "outlinewidth": 0,
            "ticks": ""
           }
          },
          "colorscale": {
           "diverging": [
            [
             0,
             "#8e0152"
            ],
            [
             0.1,
             "#c51b7d"
            ],
            [
             0.2,
             "#de77ae"
            ],
            [
             0.3,
             "#f1b6da"
            ],
            [
             0.4,
             "#fde0ef"
            ],
            [
             0.5,
             "#f7f7f7"
            ],
            [
             0.6,
             "#e6f5d0"
            ],
            [
             0.7,
             "#b8e186"
            ],
            [
             0.8,
             "#7fbc41"
            ],
            [
             0.9,
             "#4d9221"
            ],
            [
             1,
             "#276419"
            ]
           ],
           "sequential": [
            [
             0,
             "#0d0887"
            ],
            [
             0.1111111111111111,
             "#46039f"
            ],
            [
             0.2222222222222222,
             "#7201a8"
            ],
            [
             0.3333333333333333,
             "#9c179e"
            ],
            [
             0.4444444444444444,
             "#bd3786"
            ],
            [
             0.5555555555555556,
             "#d8576b"
            ],
            [
             0.6666666666666666,
             "#ed7953"
            ],
            [
             0.7777777777777778,
             "#fb9f3a"
            ],
            [
             0.8888888888888888,
             "#fdca26"
            ],
            [
             1,
             "#f0f921"
            ]
           ],
           "sequentialminus": [
            [
             0,
             "#0d0887"
            ],
            [
             0.1111111111111111,
             "#46039f"
            ],
            [
             0.2222222222222222,
             "#7201a8"
            ],
            [
             0.3333333333333333,
             "#9c179e"
            ],
            [
             0.4444444444444444,
             "#bd3786"
            ],
            [
             0.5555555555555556,
             "#d8576b"
            ],
            [
             0.6666666666666666,
             "#ed7953"
            ],
            [
             0.7777777777777778,
             "#fb9f3a"
            ],
            [
             0.8888888888888888,
             "#fdca26"
            ],
            [
             1,
             "#f0f921"
            ]
           ]
          },
          "colorway": [
           "#636efa",
           "#EF553B",
           "#00cc96",
           "#ab63fa",
           "#FFA15A",
           "#19d3f3",
           "#FF6692",
           "#B6E880",
           "#FF97FF",
           "#FECB52"
          ],
          "font": {
           "color": "#2a3f5f"
          },
          "geo": {
           "bgcolor": "white",
           "lakecolor": "white",
           "landcolor": "#E5ECF6",
           "showlakes": true,
           "showland": true,
           "subunitcolor": "white"
          },
          "hoverlabel": {
           "align": "left"
          },
          "hovermode": "closest",
          "mapbox": {
           "style": "light"
          },
          "paper_bgcolor": "white",
          "plot_bgcolor": "#E5ECF6",
          "polar": {
           "angularaxis": {
            "gridcolor": "white",
            "linecolor": "white",
            "ticks": ""
           },
           "bgcolor": "#E5ECF6",
           "radialaxis": {
            "gridcolor": "white",
            "linecolor": "white",
            "ticks": ""
           }
          },
          "scene": {
           "xaxis": {
            "backgroundcolor": "#E5ECF6",
            "gridcolor": "white",
            "gridwidth": 2,
            "linecolor": "white",
            "showbackground": true,
            "ticks": "",
            "zerolinecolor": "white"
           },
           "yaxis": {
            "backgroundcolor": "#E5ECF6",
            "gridcolor": "white",
            "gridwidth": 2,
            "linecolor": "white",
            "showbackground": true,
            "ticks": "",
            "zerolinecolor": "white"
           },
           "zaxis": {
            "backgroundcolor": "#E5ECF6",
            "gridcolor": "white",
            "gridwidth": 2,
            "linecolor": "white",
            "showbackground": true,
            "ticks": "",
            "zerolinecolor": "white"
           }
          },
          "shapedefaults": {
           "line": {
            "color": "#2a3f5f"
           }
          },
          "ternary": {
           "aaxis": {
            "gridcolor": "white",
            "linecolor": "white",
            "ticks": ""
           },
           "baxis": {
            "gridcolor": "white",
            "linecolor": "white",
            "ticks": ""
           },
           "bgcolor": "#E5ECF6",
           "caxis": {
            "gridcolor": "white",
            "linecolor": "white",
            "ticks": ""
           }
          },
          "title": {
           "x": 0.05
          },
          "xaxis": {
           "automargin": true,
           "gridcolor": "white",
           "linecolor": "white",
           "ticks": "",
           "title": {
            "standoff": 15
           },
           "zerolinecolor": "white",
           "zerolinewidth": 2
          },
          "yaxis": {
           "automargin": true,
           "gridcolor": "white",
           "linecolor": "white",
           "ticks": "",
           "title": {
            "standoff": 15
           },
           "zerolinecolor": "white",
           "zerolinewidth": 2
          }
         }
        },
        "title": {
         "text": "Number of Accidents near Traffic Signals"
        },
        "xaxis": {
         "anchor": "y",
         "categoryarray": [
          false,
          true
         ],
         "categoryorder": "array",
         "domain": [
          0,
          1
         ],
         "title": {
          "text": "Traffic_Signal"
         }
        },
        "yaxis": {
         "anchor": "x",
         "domain": [
          0,
          1
         ],
         "title": {
          "text": "Count"
         }
        }
       }
      },
      "text/html": [
       "<div>                            <div id=\"ff88a493-cd79-428a-bc35-76e2ce5fa84d\" class=\"plotly-graph-div\" style=\"height:525px; width:100%;\"></div>            <script type=\"text/javascript\">                require([\"plotly\"], function(Plotly) {                    window.PLOTLYENV=window.PLOTLYENV || {};                                    if (document.getElementById(\"ff88a493-cd79-428a-bc35-76e2ce5fa84d\")) {                    Plotly.newPlot(                        \"ff88a493-cd79-428a-bc35-76e2ce5fa84d\",                        [{\"alignmentgroup\":\"True\",\"hovertemplate\":\"Traffic_Signal=%{x}\\u003cbr\\u003eCount=%{text}\\u003cextra\\u003e\\u003c\\u002fextra\\u003e\",\"legendgroup\":\"False\",\"marker\":{\"color\":\"#66c2a5\",\"pattern\":{\"shape\":\"\"}},\"name\":\"False\",\"offsetgroup\":\"False\",\"orientation\":\"v\",\"showlegend\":true,\"text\":[9094.0],\"textposition\":\"auto\",\"x\":[false],\"xaxis\":\"x\",\"y\":[9094],\"yaxis\":\"y\",\"type\":\"bar\"},{\"alignmentgroup\":\"True\",\"hovertemplate\":\"Traffic_Signal=%{x}\\u003cbr\\u003eCount=%{text}\\u003cextra\\u003e\\u003c\\u002fextra\\u003e\",\"legendgroup\":\"True\",\"marker\":{\"color\":\"#fc8d62\",\"pattern\":{\"shape\":\"\"}},\"name\":\"True\",\"offsetgroup\":\"True\",\"orientation\":\"v\",\"showlegend\":true,\"text\":[906.0],\"textposition\":\"auto\",\"x\":[true],\"xaxis\":\"x\",\"y\":[906],\"yaxis\":\"y\",\"type\":\"bar\"}],                        {\"template\":{\"data\":{\"histogram2dcontour\":[{\"type\":\"histogram2dcontour\",\"colorbar\":{\"outlinewidth\":0,\"ticks\":\"\"},\"colorscale\":[[0.0,\"#0d0887\"],[0.1111111111111111,\"#46039f\"],[0.2222222222222222,\"#7201a8\"],[0.3333333333333333,\"#9c179e\"],[0.4444444444444444,\"#bd3786\"],[0.5555555555555556,\"#d8576b\"],[0.6666666666666666,\"#ed7953\"],[0.7777777777777778,\"#fb9f3a\"],[0.8888888888888888,\"#fdca26\"],[1.0,\"#f0f921\"]]}],\"choropleth\":[{\"type\":\"choropleth\",\"colorbar\":{\"outlinewidth\":0,\"ticks\":\"\"}}],\"histogram2d\":[{\"type\":\"histogram2d\",\"colorbar\":{\"outlinewidth\":0,\"ticks\":\"\"},\"colorscale\":[[0.0,\"#0d0887\"],[0.1111111111111111,\"#46039f\"],[0.2222222222222222,\"#7201a8\"],[0.3333333333333333,\"#9c179e\"],[0.4444444444444444,\"#bd3786\"],[0.5555555555555556,\"#d8576b\"],[0.6666666666666666,\"#ed7953\"],[0.7777777777777778,\"#fb9f3a\"],[0.8888888888888888,\"#fdca26\"],[1.0,\"#f0f921\"]]}],\"heatmap\":[{\"type\":\"heatmap\",\"colorbar\":{\"outlinewidth\":0,\"ticks\":\"\"},\"colorscale\":[[0.0,\"#0d0887\"],[0.1111111111111111,\"#46039f\"],[0.2222222222222222,\"#7201a8\"],[0.3333333333333333,\"#9c179e\"],[0.4444444444444444,\"#bd3786\"],[0.5555555555555556,\"#d8576b\"],[0.6666666666666666,\"#ed7953\"],[0.7777777777777778,\"#fb9f3a\"],[0.8888888888888888,\"#fdca26\"],[1.0,\"#f0f921\"]]}],\"heatmapgl\":[{\"type\":\"heatmapgl\",\"colorbar\":{\"outlinewidth\":0,\"ticks\":\"\"},\"colorscale\":[[0.0,\"#0d0887\"],[0.1111111111111111,\"#46039f\"],[0.2222222222222222,\"#7201a8\"],[0.3333333333333333,\"#9c179e\"],[0.4444444444444444,\"#bd3786\"],[0.5555555555555556,\"#d8576b\"],[0.6666666666666666,\"#ed7953\"],[0.7777777777777778,\"#fb9f3a\"],[0.8888888888888888,\"#fdca26\"],[1.0,\"#f0f921\"]]}],\"contourcarpet\":[{\"type\":\"contourcarpet\",\"colorbar\":{\"outlinewidth\":0,\"ticks\":\"\"}}],\"contour\":[{\"type\":\"contour\",\"colorbar\":{\"outlinewidth\":0,\"ticks\":\"\"},\"colorscale\":[[0.0,\"#0d0887\"],[0.1111111111111111,\"#46039f\"],[0.2222222222222222,\"#7201a8\"],[0.3333333333333333,\"#9c179e\"],[0.4444444444444444,\"#bd3786\"],[0.5555555555555556,\"#d8576b\"],[0.6666666666666666,\"#ed7953\"],[0.7777777777777778,\"#fb9f3a\"],[0.8888888888888888,\"#fdca26\"],[1.0,\"#f0f921\"]]}],\"surface\":[{\"type\":\"surface\",\"colorbar\":{\"outlinewidth\":0,\"ticks\":\"\"},\"colorscale\":[[0.0,\"#0d0887\"],[0.1111111111111111,\"#46039f\"],[0.2222222222222222,\"#7201a8\"],[0.3333333333333333,\"#9c179e\"],[0.4444444444444444,\"#bd3786\"],[0.5555555555555556,\"#d8576b\"],[0.6666666666666666,\"#ed7953\"],[0.7777777777777778,\"#fb9f3a\"],[0.8888888888888888,\"#fdca26\"],[1.0,\"#f0f921\"]]}],\"mesh3d\":[{\"type\":\"mesh3d\",\"colorbar\":{\"outlinewidth\":0,\"ticks\":\"\"}}],\"scatter\":[{\"fillpattern\":{\"fillmode\":\"overlay\",\"size\":10,\"solidity\":0.2},\"type\":\"scatter\"}],\"parcoords\":[{\"type\":\"parcoords\",\"line\":{\"colorbar\":{\"outlinewidth\":0,\"ticks\":\"\"}}}],\"scatterpolargl\":[{\"type\":\"scatterpolargl\",\"marker\":{\"colorbar\":{\"outlinewidth\":0,\"ticks\":\"\"}}}],\"bar\":[{\"error_x\":{\"color\":\"#2a3f5f\"},\"error_y\":{\"color\":\"#2a3f5f\"},\"marker\":{\"line\":{\"color\":\"#E5ECF6\",\"width\":0.5},\"pattern\":{\"fillmode\":\"overlay\",\"size\":10,\"solidity\":0.2}},\"type\":\"bar\"}],\"scattergeo\":[{\"type\":\"scattergeo\",\"marker\":{\"colorbar\":{\"outlinewidth\":0,\"ticks\":\"\"}}}],\"scatterpolar\":[{\"type\":\"scatterpolar\",\"marker\":{\"colorbar\":{\"outlinewidth\":0,\"ticks\":\"\"}}}],\"histogram\":[{\"marker\":{\"pattern\":{\"fillmode\":\"overlay\",\"size\":10,\"solidity\":0.2}},\"type\":\"histogram\"}],\"scattergl\":[{\"type\":\"scattergl\",\"marker\":{\"colorbar\":{\"outlinewidth\":0,\"ticks\":\"\"}}}],\"scatter3d\":[{\"type\":\"scatter3d\",\"line\":{\"colorbar\":{\"outlinewidth\":0,\"ticks\":\"\"}},\"marker\":{\"colorbar\":{\"outlinewidth\":0,\"ticks\":\"\"}}}],\"scattermapbox\":[{\"type\":\"scattermapbox\",\"marker\":{\"colorbar\":{\"outlinewidth\":0,\"ticks\":\"\"}}}],\"scatterternary\":[{\"type\":\"scatterternary\",\"marker\":{\"colorbar\":{\"outlinewidth\":0,\"ticks\":\"\"}}}],\"scattercarpet\":[{\"type\":\"scattercarpet\",\"marker\":{\"colorbar\":{\"outlinewidth\":0,\"ticks\":\"\"}}}],\"carpet\":[{\"aaxis\":{\"endlinecolor\":\"#2a3f5f\",\"gridcolor\":\"white\",\"linecolor\":\"white\",\"minorgridcolor\":\"white\",\"startlinecolor\":\"#2a3f5f\"},\"baxis\":{\"endlinecolor\":\"#2a3f5f\",\"gridcolor\":\"white\",\"linecolor\":\"white\",\"minorgridcolor\":\"white\",\"startlinecolor\":\"#2a3f5f\"},\"type\":\"carpet\"}],\"table\":[{\"cells\":{\"fill\":{\"color\":\"#EBF0F8\"},\"line\":{\"color\":\"white\"}},\"header\":{\"fill\":{\"color\":\"#C8D4E3\"},\"line\":{\"color\":\"white\"}},\"type\":\"table\"}],\"barpolar\":[{\"marker\":{\"line\":{\"color\":\"#E5ECF6\",\"width\":0.5},\"pattern\":{\"fillmode\":\"overlay\",\"size\":10,\"solidity\":0.2}},\"type\":\"barpolar\"}],\"pie\":[{\"automargin\":true,\"type\":\"pie\"}]},\"layout\":{\"autotypenumbers\":\"strict\",\"colorway\":[\"#636efa\",\"#EF553B\",\"#00cc96\",\"#ab63fa\",\"#FFA15A\",\"#19d3f3\",\"#FF6692\",\"#B6E880\",\"#FF97FF\",\"#FECB52\"],\"font\":{\"color\":\"#2a3f5f\"},\"hovermode\":\"closest\",\"hoverlabel\":{\"align\":\"left\"},\"paper_bgcolor\":\"white\",\"plot_bgcolor\":\"#E5ECF6\",\"polar\":{\"bgcolor\":\"#E5ECF6\",\"angularaxis\":{\"gridcolor\":\"white\",\"linecolor\":\"white\",\"ticks\":\"\"},\"radialaxis\":{\"gridcolor\":\"white\",\"linecolor\":\"white\",\"ticks\":\"\"}},\"ternary\":{\"bgcolor\":\"#E5ECF6\",\"aaxis\":{\"gridcolor\":\"white\",\"linecolor\":\"white\",\"ticks\":\"\"},\"baxis\":{\"gridcolor\":\"white\",\"linecolor\":\"white\",\"ticks\":\"\"},\"caxis\":{\"gridcolor\":\"white\",\"linecolor\":\"white\",\"ticks\":\"\"}},\"coloraxis\":{\"colorbar\":{\"outlinewidth\":0,\"ticks\":\"\"}},\"colorscale\":{\"sequential\":[[0.0,\"#0d0887\"],[0.1111111111111111,\"#46039f\"],[0.2222222222222222,\"#7201a8\"],[0.3333333333333333,\"#9c179e\"],[0.4444444444444444,\"#bd3786\"],[0.5555555555555556,\"#d8576b\"],[0.6666666666666666,\"#ed7953\"],[0.7777777777777778,\"#fb9f3a\"],[0.8888888888888888,\"#fdca26\"],[1.0,\"#f0f921\"]],\"sequentialminus\":[[0.0,\"#0d0887\"],[0.1111111111111111,\"#46039f\"],[0.2222222222222222,\"#7201a8\"],[0.3333333333333333,\"#9c179e\"],[0.4444444444444444,\"#bd3786\"],[0.5555555555555556,\"#d8576b\"],[0.6666666666666666,\"#ed7953\"],[0.7777777777777778,\"#fb9f3a\"],[0.8888888888888888,\"#fdca26\"],[1.0,\"#f0f921\"]],\"diverging\":[[0,\"#8e0152\"],[0.1,\"#c51b7d\"],[0.2,\"#de77ae\"],[0.3,\"#f1b6da\"],[0.4,\"#fde0ef\"],[0.5,\"#f7f7f7\"],[0.6,\"#e6f5d0\"],[0.7,\"#b8e186\"],[0.8,\"#7fbc41\"],[0.9,\"#4d9221\"],[1,\"#276419\"]]},\"xaxis\":{\"gridcolor\":\"white\",\"linecolor\":\"white\",\"ticks\":\"\",\"title\":{\"standoff\":15},\"zerolinecolor\":\"white\",\"automargin\":true,\"zerolinewidth\":2},\"yaxis\":{\"gridcolor\":\"white\",\"linecolor\":\"white\",\"ticks\":\"\",\"title\":{\"standoff\":15},\"zerolinecolor\":\"white\",\"automargin\":true,\"zerolinewidth\":2},\"scene\":{\"xaxis\":{\"backgroundcolor\":\"#E5ECF6\",\"gridcolor\":\"white\",\"linecolor\":\"white\",\"showbackground\":true,\"ticks\":\"\",\"zerolinecolor\":\"white\",\"gridwidth\":2},\"yaxis\":{\"backgroundcolor\":\"#E5ECF6\",\"gridcolor\":\"white\",\"linecolor\":\"white\",\"showbackground\":true,\"ticks\":\"\",\"zerolinecolor\":\"white\",\"gridwidth\":2},\"zaxis\":{\"backgroundcolor\":\"#E5ECF6\",\"gridcolor\":\"white\",\"linecolor\":\"white\",\"showbackground\":true,\"ticks\":\"\",\"zerolinecolor\":\"white\",\"gridwidth\":2}},\"shapedefaults\":{\"line\":{\"color\":\"#2a3f5f\"}},\"annotationdefaults\":{\"arrowcolor\":\"#2a3f5f\",\"arrowhead\":0,\"arrowwidth\":1},\"geo\":{\"bgcolor\":\"white\",\"landcolor\":\"#E5ECF6\",\"subunitcolor\":\"white\",\"showland\":true,\"showlakes\":true,\"lakecolor\":\"white\"},\"title\":{\"x\":0.05},\"mapbox\":{\"style\":\"light\"}}},\"xaxis\":{\"anchor\":\"y\",\"domain\":[0.0,1.0],\"title\":{\"text\":\"Traffic_Signal\"},\"categoryorder\":\"array\",\"categoryarray\":[false,true]},\"yaxis\":{\"anchor\":\"x\",\"domain\":[0.0,1.0],\"title\":{\"text\":\"Count\"}},\"legend\":{\"title\":{\"text\":\"Traffic_Signal\"},\"tracegroupgap\":0},\"title\":{\"text\":\"Number of Accidents near Traffic Signals\"},\"barmode\":\"relative\"},                        {\"responsive\": true}                    ).then(function(){\n",
       "                            \n",
       "var gd = document.getElementById('ff88a493-cd79-428a-bc35-76e2ce5fa84d');\n",
       "var x = new MutationObserver(function (mutations, observer) {{\n",
       "        var display = window.getComputedStyle(gd).display;\n",
       "        if (!display || display === 'none') {{\n",
       "            console.log([gd, 'removed!']);\n",
       "            Plotly.purge(gd);\n",
       "            observer.disconnect();\n",
       "        }}\n",
       "}});\n",
       "\n",
       "// Listen for the removal of the full notebook cells\n",
       "var notebookContainer = gd.closest('#notebook-container');\n",
       "if (notebookContainer) {{\n",
       "    x.observe(notebookContainer, {childList: true});\n",
       "}}\n",
       "\n",
       "// Listen for the clearing of the current output cell\n",
       "var outputEl = gd.closest('.output');\n",
       "if (outputEl) {{\n",
       "    x.observe(outputEl, {childList: true});\n",
       "}}\n",
       "\n",
       "                        })                };                });            </script>        </div>"
      ]
     },
     "metadata": {},
     "output_type": "display_data"
    }
   ],
   "source": [
    "# Count occurrences of True and False\n",
    "traffic_signal_counts = df['Traffic_Signal'].value_counts().reset_index()\n",
    "traffic_signal_counts.columns = ['Traffic_Signal', 'Count']  # Rename column\n",
    "\n",
    "# Create bar plot\n",
    "fig = px.bar(\n",
    "    traffic_signal_counts,\n",
    "    x='Traffic_Signal',\n",
    "    y='Count',\n",
    "    text='Count',  # Display the total number on the bars\n",
    "    color='Traffic_Signal',  \n",
    "    color_discrete_map={True: '#fc8d62', False: '#66c2a5'},  # Pastel colors\n",
    "    title=\"Number of Accidents near Traffic Signals\"\n",
    ")\n",
    "fig\n"
   ]
  },
  {
   "cell_type": "markdown",
   "id": "3d5568bc",
   "metadata": {},
   "source": [
    "### 8 .What percentage of total accidents do these categories represent?"
   ]
  },
  {
   "cell_type": "markdown",
   "id": "12c8d2fe",
   "metadata": {},
   "source": [
    "<img src=\"https://theorytest.org.uk/wp-content/uploads/2019/03/unmarked-crossroads.jpg\" alt=\"Parking Sign\" width=\"400\">\n"
   ]
  },
  {
   "cell_type": "code",
   "execution_count": 25,
   "id": "31f3d5b0",
   "metadata": {},
   "outputs": [
    {
     "data": {
      "image/png": "[encoded data removed]",
      "text/plain": [
       "<Figure size 600x600 with 1 Axes>"
      ]
     },
     "metadata": {},
     "output_type": "display_data"
    }
   ],
   "source": [
    "# Calculate percentages\n",
    "value_counts = df['Junction'].value_counts(normalize=True)*100\n",
    "\n",
    "# Labels for the pie chart\n",
    "labels = [f'{label} ({value:.1f}%)' for label, value in zip(value_counts.index, value_counts.values)]\n",
    "\n",
    "# Create pie chart\n",
    "plt.figure(figsize=(6, 6))\n",
    "plt.pie(value_counts, labels=labels, autopct='%1.1f%%', colors=['#66c2a5', '#fc8d62'], shadow=True, explode=[0, 0.3])\n",
    "plt.title('Presence of Junction', fontdict={'fontsize':17})\n",
    "plt.show()"
   ]
  },
  {
   "cell_type": "markdown",
   "id": "d3e62f87",
   "metadata": {},
   "source": [
    "<img src=\"https://www.myparkingsign.com/img/lg2/K/k2-4958-2.png\" alt=\"Parking Sign\" width=\"300\">\n"
   ]
  },
  {
   "cell_type": "code",
   "execution_count": 27,
   "id": "7f2df33f",
   "metadata": {},
   "outputs": [
    {
     "data": {
      "image/png": "[encoded data removed]",
      "text/plain": [
       "<Figure size 600x600 with 1 Axes>"
      ]
     },
     "metadata": {},
     "output_type": "display_data"
    }
   ],
   "source": [
    "# Calculate percentages\n",
    "value_counts = df['Stop'].value_counts(normalize=True)*100\n",
    "\n",
    "# Labels for the pie chart\n",
    "labels = [f'{label} ({value:.1f}%)' for label, value in zip(value_counts.index, value_counts.values)]\n",
    "\n",
    "# Create pie chart\n",
    "plt.figure(figsize=(6, 6))\n",
    "plt.pie(value_counts, labels=labels, autopct='%1.1f%%', colors=['#66c2a5', '#fc8d62'], shadow=True, explode=[0, 0.3])\n",
    "plt.title('Presence of Stop signal', fontdict={'fontsize':17})\n",
    "plt.show()"
   ]
  },
  {
   "cell_type": "markdown",
   "id": "e0107696",
   "metadata": {},
   "source": [
    "<img src=\"https://www.trafficsolution.cn/wp-content/uploads/2024/04/1669627503962169346.webp\" alt=\"Parking Sign\" width=\"400\">\n"
   ]
  },
  {
   "cell_type": "code",
   "execution_count": 24,
   "id": "a8a420d9",
   "metadata": {},
   "outputs": [
    {
     "data": {
      "image/png": "[encoded data removed]",
      "text/plain": [
       "<Figure size 600x600 with 1 Axes>"
      ]
     },
     "metadata": {},
     "output_type": "display_data"
    }
   ],
   "source": [
    "# Calculate percentages\n",
    "value_counts = df['Traffic_Signal'].value_counts(normalize=True)*100\n",
    "\n",
    "# Labels for the pie chart\n",
    "labels = [f'{label} ({value:.1f}%)' for label, value in zip(value_counts.index, value_counts.values)]\n",
    "\n",
    "# Create pie chart\n",
    "plt.figure(figsize=(6, 6))\n",
    "plt.pie(value_counts, labels=labels, autopct='%1.1f%%', colors=['#66c2a5', '#fc8d62'], shadow=True, explode=[0, 0.3])\n",
    "plt.title('Presence of Traffic Signal', fontdict={'fontsize':17})\n",
    "plt.show()"
   ]
  }
 ],
 "metadata": {
  "kernelspec": {
   "display_name": "Python 3 (ipykernel)",
   "language": "python",
   "name": "python3"
  },
  "language_info": {
   "codemirror_mode": {
    "name": "ipython",
    "version": 3
   },
   "file_extension": ".py",
   "mimetype": "text/x-python",
   "name": "python",
   "nbconvert_exporter": "python",
   "pygments_lexer": "ipython3",
   "version": "3.12.3"
  }
 },
 "nbformat": 4,
 "nbformat_minor": 5
}
