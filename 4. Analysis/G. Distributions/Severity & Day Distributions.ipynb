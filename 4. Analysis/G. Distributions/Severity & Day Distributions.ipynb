{
 "cells": [
  {
   "cell_type": "code",
   "execution_count": 2,
   "id": "7cee70ad-3dcd-4f17-9b12-e22e98fcc9b8",
   "metadata": {},
   "outputs": [],
   "source": [
    "import pandas as pd\n",
    "import seaborn as sns\n",
    "import matplotlib.pyplot as plt\n",
    "import numpy as np\n",
    "\n",
    "#path\n",
    "file_path = r\"C:\\Users\\vange\\Desktop\\Car Accidents\\Car-Accidents\\3. Data Cleaning\\cleaned_accidents.csv\"\n",
    "#load\n",
    "df = pd.read_csv(file_path)\n",
    "\n",
    "#datetime formatting\n",
    "df['Start_Time'] = pd.to_datetime(df['Start_Time'])\n",
    "\n",
    "#month column\n",
    "df['Month'] = df['Start_Time'].dt.month\n",
    "\n",
    "#count accidents per month\n",
    "accidents_per_month = df['Month'].value_counts().sort_index()"
   ]
  },
  {
   "cell_type": "code",
   "execution_count": null,
   "id": "91c5db70-a03a-45d6-9baa-264ba97f9934",
   "metadata": {},
   "outputs": [],
   "source": [
    "dh."
   ]
  }
 ],
 "metadata": {
  "kernelspec": {
   "display_name": "Python 3 (ipykernel)",
   "language": "python",
   "name": "python3"
  },
  "language_info": {
   "codemirror_mode": {
    "name": "ipython",
    "version": 3
   },
   "file_extension": ".py",
   "mimetype": "text/x-python",
   "name": "python",
   "nbconvert_exporter": "python",
   "pygments_lexer": "ipython3",
   "version": "3.11.5"
  }
 },
 "nbformat": 4,
 "nbformat_minor": 5
}
