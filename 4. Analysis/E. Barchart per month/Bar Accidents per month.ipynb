{
 "cells": [
  {
   "cell_type": "code",
   "execution_count": null,
   "id": "3fc3171b-2ce1-44fe-a51e-a759b0aca8de",
   "metadata": {},
   "outputs": [],
   "source": []
  }
 ],
 "metadata": {
  "kernelspec": {
   "display_name": "",
   "name": ""
  },
  "language_info": {
   "name": ""
  }
 },
 "nbformat": 4,
 "nbformat_minor": 5
}
